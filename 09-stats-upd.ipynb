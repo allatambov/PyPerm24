{
 "cells": [
  {
   "cell_type": "markdown",
   "metadata": {},
   "source": [
    "# Анализ данных на Python\n",
    "\n",
    "*Алла Тамбовцева*\n",
    "\n",
    "## Визуализация с `seaborn` и статистическое оценивание с `scipy.stats`"
   ]
  },
  {
   "cell_type": "markdown",
   "metadata": {},
   "source": [
    "### Подготовка к работе"
   ]
  },
  {
   "cell_type": "markdown",
   "metadata": {},
   "source": [
    "В этом практикуме помимо привычных библиотек нам понадобится библиотека `seaborn`. Это надстройка над библиотекой `matplotlib` для более удобного построения графиков (больше возможностей для группировки и статистических графиков). Установим ее:"
   ]
  },
  {
   "cell_type": "code",
   "execution_count": null,
   "metadata": {},
   "outputs": [],
   "source": [
    "!pip install seaborn"
   ]
  },
  {
   "cell_type": "markdown",
   "metadata": {},
   "source": [
    "Импортируем библиотеки `pandas`, `seaborn` и модуль `stats` из библиотеки `scipy` для статистических тестов и работы с распределениями:"
   ]
  },
  {
   "cell_type": "code",
   "execution_count": 1,
   "metadata": {},
   "outputs": [],
   "source": [
    "import pandas as pd\n",
    "import seaborn as sns\n",
    "from scipy import stats as st"
   ]
  },
  {
   "cell_type": "markdown",
   "metadata": {},
   "source": [
    "Загрузим данные из файла `Cowles.csv`:"
   ]
  },
  {
   "cell_type": "code",
   "execution_count": 2,
   "metadata": {},
   "outputs": [
    {
     "data": {
      "text/html": [
       "<div>\n",
       "<style scoped>\n",
       "    .dataframe tbody tr th:only-of-type {\n",
       "        vertical-align: middle;\n",
       "    }\n",
       "\n",
       "    .dataframe tbody tr th {\n",
       "        vertical-align: top;\n",
       "    }\n",
       "\n",
       "    .dataframe thead th {\n",
       "        text-align: right;\n",
       "    }\n",
       "</style>\n",
       "<table border=\"1\" class=\"dataframe\">\n",
       "  <thead>\n",
       "    <tr style=\"text-align: right;\">\n",
       "      <th></th>\n",
       "      <th>Unnamed: 0</th>\n",
       "      <th>neuroticism</th>\n",
       "      <th>extraversion</th>\n",
       "      <th>sex</th>\n",
       "      <th>volunteer</th>\n",
       "    </tr>\n",
       "  </thead>\n",
       "  <tbody>\n",
       "    <tr>\n",
       "      <th>0</th>\n",
       "      <td>1</td>\n",
       "      <td>16</td>\n",
       "      <td>13</td>\n",
       "      <td>female</td>\n",
       "      <td>no</td>\n",
       "    </tr>\n",
       "    <tr>\n",
       "      <th>1</th>\n",
       "      <td>2</td>\n",
       "      <td>8</td>\n",
       "      <td>14</td>\n",
       "      <td>male</td>\n",
       "      <td>no</td>\n",
       "    </tr>\n",
       "    <tr>\n",
       "      <th>2</th>\n",
       "      <td>3</td>\n",
       "      <td>5</td>\n",
       "      <td>16</td>\n",
       "      <td>male</td>\n",
       "      <td>no</td>\n",
       "    </tr>\n",
       "    <tr>\n",
       "      <th>3</th>\n",
       "      <td>4</td>\n",
       "      <td>8</td>\n",
       "      <td>20</td>\n",
       "      <td>female</td>\n",
       "      <td>no</td>\n",
       "    </tr>\n",
       "    <tr>\n",
       "      <th>4</th>\n",
       "      <td>5</td>\n",
       "      <td>9</td>\n",
       "      <td>19</td>\n",
       "      <td>male</td>\n",
       "      <td>no</td>\n",
       "    </tr>\n",
       "  </tbody>\n",
       "</table>\n",
       "</div>"
      ],
      "text/plain": [
       "   Unnamed: 0  neuroticism  extraversion     sex volunteer\n",
       "0           1           16            13  female        no\n",
       "1           2            8            14    male        no\n",
       "2           3            5            16    male        no\n",
       "3           4            8            20  female        no\n",
       "4           5            9            19    male        no"
      ]
     },
     "execution_count": 2,
     "metadata": {},
     "output_type": "execute_result"
    }
   ],
   "source": [
    "data = pd.read_csv(\"https://raw.githubusercontent.com/allatambov/PyPerm24/main/Cowles.csv\")\n",
    "data.head()"
   ]
  },
  {
   "cell_type": "markdown",
   "metadata": {},
   "source": [
    "В этом файле хранятся результаты опроса, переменные следующие:\n",
    "    \n",
    "* `neuroticism`: уровень невротизма (тревожность, эмоциональная неустойчивость);\n",
    "* `extraversion`: уровень экстраверсии;\n",
    "* `sex`: пол респондента;\n",
    "* `volunteer`: участвует ли респондент в волонтерской деятельности или нет (`yes`, `no`)."
   ]
  },
  {
   "cell_type": "markdown",
   "metadata": {},
   "source": [
    "### Количественные данные: cравниваем распределения и средние в двух группах\n",
    "\n",
    "Изучим соотношение женщин и мужчин, участвующих и не участвующих волонтерской деятельности в данных:"
   ]
  },
  {
   "cell_type": "code",
   "execution_count": 3,
   "metadata": {},
   "outputs": [
    {
     "name": "stdout",
     "output_type": "stream",
     "text": [
      "female    780\n",
      "male      641\n",
      "Name: sex, dtype: int64\n",
      "\n",
      "no     824\n",
      "yes    597\n",
      "Name: volunteer, dtype: int64\n"
     ]
    }
   ],
   "source": [
    "print(data[\"sex\"].value_counts())\n",
    "print()\n",
    "print(data[\"volunteer\"].value_counts())"
   ]
  },
  {
   "cell_type": "markdown",
   "metadata": {},
   "source": [
    "То же, только в долях:"
   ]
  },
  {
   "cell_type": "code",
   "execution_count": 4,
   "metadata": {},
   "outputs": [
    {
     "name": "stdout",
     "output_type": "stream",
     "text": [
      "female    0.548909\n",
      "male      0.451091\n",
      "Name: sex, dtype: float64\n",
      "\n",
      "no     0.579873\n",
      "yes    0.420127\n",
      "Name: volunteer, dtype: float64\n"
     ]
    }
   ],
   "source": [
    "print(data[\"sex\"].value_counts(normalize = True))\n",
    "print()\n",
    "print(data[\"volunteer\"].value_counts(normalize = True))"
   ]
  },
  {
   "cell_type": "markdown",
   "metadata": {},
   "source": [
    "Сильного сдвига в сторону респондентов того или иного пола нет, женщин больше, но несильно. Если нас будут интересовать уровни экстраверсии/невротизма/степень участия в волонтерской деятельности, полученные результаты не будут искажены из-за того, что состав выборки неравномерный.\n",
    "\n",
    "Выведем описательные статистики для уровня экстраверсии с группировкой по полу:"
   ]
  },
  {
   "cell_type": "code",
   "execution_count": 5,
   "metadata": {},
   "outputs": [
    {
     "data": {
      "text/html": [
       "<div>\n",
       "<style scoped>\n",
       "    .dataframe tbody tr th:only-of-type {\n",
       "        vertical-align: middle;\n",
       "    }\n",
       "\n",
       "    .dataframe tbody tr th {\n",
       "        vertical-align: top;\n",
       "    }\n",
       "\n",
       "    .dataframe thead th {\n",
       "        text-align: right;\n",
       "    }\n",
       "</style>\n",
       "<table border=\"1\" class=\"dataframe\">\n",
       "  <thead>\n",
       "    <tr style=\"text-align: right;\">\n",
       "      <th></th>\n",
       "      <th>count</th>\n",
       "      <th>mean</th>\n",
       "      <th>std</th>\n",
       "      <th>min</th>\n",
       "      <th>25%</th>\n",
       "      <th>50%</th>\n",
       "      <th>75%</th>\n",
       "      <th>max</th>\n",
       "    </tr>\n",
       "    <tr>\n",
       "      <th>sex</th>\n",
       "      <th></th>\n",
       "      <th></th>\n",
       "      <th></th>\n",
       "      <th></th>\n",
       "      <th></th>\n",
       "      <th></th>\n",
       "      <th></th>\n",
       "      <th></th>\n",
       "    </tr>\n",
       "  </thead>\n",
       "  <tbody>\n",
       "    <tr>\n",
       "      <th>female</th>\n",
       "      <td>780.0</td>\n",
       "      <td>12.421795</td>\n",
       "      <td>3.823485</td>\n",
       "      <td>2.0</td>\n",
       "      <td>10.0</td>\n",
       "      <td>13.0</td>\n",
       "      <td>15.0</td>\n",
       "      <td>23.0</td>\n",
       "    </tr>\n",
       "    <tr>\n",
       "      <th>male</th>\n",
       "      <td>641.0</td>\n",
       "      <td>12.313573</td>\n",
       "      <td>3.979630</td>\n",
       "      <td>2.0</td>\n",
       "      <td>9.0</td>\n",
       "      <td>13.0</td>\n",
       "      <td>15.0</td>\n",
       "      <td>22.0</td>\n",
       "    </tr>\n",
       "  </tbody>\n",
       "</table>\n",
       "</div>"
      ],
      "text/plain": [
       "        count       mean       std  min   25%   50%   75%   max\n",
       "sex                                                            \n",
       "female  780.0  12.421795  3.823485  2.0  10.0  13.0  15.0  23.0\n",
       "male    641.0  12.313573  3.979630  2.0   9.0  13.0  15.0  22.0"
      ]
     },
     "execution_count": 5,
     "metadata": {},
     "output_type": "execute_result"
    }
   ],
   "source": [
    "data.groupby(\"sex\")[\"extraversion\"].describe()"
   ]
  },
  {
   "cell_type": "markdown",
   "metadata": {},
   "source": [
    "Кстати, можно транспонировать для удобства:"
   ]
  },
  {
   "cell_type": "code",
   "execution_count": 6,
   "metadata": {},
   "outputs": [
    {
     "data": {
      "text/html": [
       "<div>\n",
       "<style scoped>\n",
       "    .dataframe tbody tr th:only-of-type {\n",
       "        vertical-align: middle;\n",
       "    }\n",
       "\n",
       "    .dataframe tbody tr th {\n",
       "        vertical-align: top;\n",
       "    }\n",
       "\n",
       "    .dataframe thead th {\n",
       "        text-align: right;\n",
       "    }\n",
       "</style>\n",
       "<table border=\"1\" class=\"dataframe\">\n",
       "  <thead>\n",
       "    <tr style=\"text-align: right;\">\n",
       "      <th>sex</th>\n",
       "      <th>female</th>\n",
       "      <th>male</th>\n",
       "    </tr>\n",
       "  </thead>\n",
       "  <tbody>\n",
       "    <tr>\n",
       "      <th>count</th>\n",
       "      <td>780.000000</td>\n",
       "      <td>641.000000</td>\n",
       "    </tr>\n",
       "    <tr>\n",
       "      <th>mean</th>\n",
       "      <td>12.421795</td>\n",
       "      <td>12.313573</td>\n",
       "    </tr>\n",
       "    <tr>\n",
       "      <th>std</th>\n",
       "      <td>3.823485</td>\n",
       "      <td>3.979630</td>\n",
       "    </tr>\n",
       "    <tr>\n",
       "      <th>min</th>\n",
       "      <td>2.000000</td>\n",
       "      <td>2.000000</td>\n",
       "    </tr>\n",
       "    <tr>\n",
       "      <th>25%</th>\n",
       "      <td>10.000000</td>\n",
       "      <td>9.000000</td>\n",
       "    </tr>\n",
       "    <tr>\n",
       "      <th>50%</th>\n",
       "      <td>13.000000</td>\n",
       "      <td>13.000000</td>\n",
       "    </tr>\n",
       "    <tr>\n",
       "      <th>75%</th>\n",
       "      <td>15.000000</td>\n",
       "      <td>15.000000</td>\n",
       "    </tr>\n",
       "    <tr>\n",
       "      <th>max</th>\n",
       "      <td>23.000000</td>\n",
       "      <td>22.000000</td>\n",
       "    </tr>\n",
       "  </tbody>\n",
       "</table>\n",
       "</div>"
      ],
      "text/plain": [
       "sex        female        male\n",
       "count  780.000000  641.000000\n",
       "mean    12.421795   12.313573\n",
       "std      3.823485    3.979630\n",
       "min      2.000000    2.000000\n",
       "25%     10.000000    9.000000\n",
       "50%     13.000000   13.000000\n",
       "75%     15.000000   15.000000\n",
       "max     23.000000   22.000000"
      ]
     },
     "execution_count": 6,
     "metadata": {},
     "output_type": "execute_result"
    }
   ],
   "source": [
    "data.groupby(\"sex\")[\"extraversion\"].describe().T"
   ]
  },
  {
   "cell_type": "markdown",
   "metadata": {},
   "source": [
    "Размах значений индекса экстраверсии у мужчин и женщин примерно одинаковый, разнообразие значений, если оценивать его по стандартному отклонению, у мужчин чуть выше. Различий в медианных значениях нет, средние тоже примерно одинаковы. Можно предположить, что различий в среднем уровне экстраверсии у мужчин и женщин нет.\n",
    "\n",
    "Посмотрим на описательные статистики с разбиением по участию в волонтерстве:"
   ]
  },
  {
   "cell_type": "code",
   "execution_count": 7,
   "metadata": {},
   "outputs": [
    {
     "data": {
      "text/html": [
       "<div>\n",
       "<style scoped>\n",
       "    .dataframe tbody tr th:only-of-type {\n",
       "        vertical-align: middle;\n",
       "    }\n",
       "\n",
       "    .dataframe tbody tr th {\n",
       "        vertical-align: top;\n",
       "    }\n",
       "\n",
       "    .dataframe thead th {\n",
       "        text-align: right;\n",
       "    }\n",
       "</style>\n",
       "<table border=\"1\" class=\"dataframe\">\n",
       "  <thead>\n",
       "    <tr style=\"text-align: right;\">\n",
       "      <th>volunteer</th>\n",
       "      <th>no</th>\n",
       "      <th>yes</th>\n",
       "    </tr>\n",
       "  </thead>\n",
       "  <tbody>\n",
       "    <tr>\n",
       "      <th>count</th>\n",
       "      <td>824.000000</td>\n",
       "      <td>597.000000</td>\n",
       "    </tr>\n",
       "    <tr>\n",
       "      <th>mean</th>\n",
       "      <td>11.962379</td>\n",
       "      <td>12.939698</td>\n",
       "    </tr>\n",
       "    <tr>\n",
       "      <th>std</th>\n",
       "      <td>3.834333</td>\n",
       "      <td>3.907021</td>\n",
       "    </tr>\n",
       "    <tr>\n",
       "      <th>min</th>\n",
       "      <td>2.000000</td>\n",
       "      <td>2.000000</td>\n",
       "    </tr>\n",
       "    <tr>\n",
       "      <th>25%</th>\n",
       "      <td>9.000000</td>\n",
       "      <td>11.000000</td>\n",
       "    </tr>\n",
       "    <tr>\n",
       "      <th>50%</th>\n",
       "      <td>12.000000</td>\n",
       "      <td>13.000000</td>\n",
       "    </tr>\n",
       "    <tr>\n",
       "      <th>75%</th>\n",
       "      <td>15.000000</td>\n",
       "      <td>16.000000</td>\n",
       "    </tr>\n",
       "    <tr>\n",
       "      <th>max</th>\n",
       "      <td>23.000000</td>\n",
       "      <td>22.000000</td>\n",
       "    </tr>\n",
       "  </tbody>\n",
       "</table>\n",
       "</div>"
      ],
      "text/plain": [
       "volunteer          no         yes\n",
       "count      824.000000  597.000000\n",
       "mean        11.962379   12.939698\n",
       "std          3.834333    3.907021\n",
       "min          2.000000    2.000000\n",
       "25%          9.000000   11.000000\n",
       "50%         12.000000   13.000000\n",
       "75%         15.000000   16.000000\n",
       "max         23.000000   22.000000"
      ]
     },
     "execution_count": 7,
     "metadata": {},
     "output_type": "execute_result"
    }
   ],
   "source": [
    "data.groupby(\"volunteer\")[\"extraversion\"].describe().T"
   ]
  },
  {
   "cell_type": "markdown",
   "metadata": {},
   "source": [
    "Тут различия чуть более заметные, и среднее, и медианное значение уровня экстраверсии у участвующих в волонтерской деятельности выше, что вполне логично. Вопрос, можно ли считать эту разницу в единицу статистически значимой, учитывая разброс значений? Ответим на него чуть позже, применив соответствующий статистический критерий, а пока посмотрим на распределение показателя `extraversion`. \n",
    "\n",
    "Выставим тему для всех последующих графиков с `seaborn`, выберем тему с белым фоном и добавленной координатной сеткой (подробнее про темы – [здесь](https://seaborn.pydata.org/generated/seaborn.set_theme.html)):"
   ]
  },
  {
   "cell_type": "code",
   "execution_count": 8,
   "metadata": {},
   "outputs": [],
   "source": [
    "sns.set_theme(style = \"whitegrid\")"
   ]
  },
  {
   "cell_type": "markdown",
   "metadata": {},
   "source": [
    "Построим гистограмму для столбца `extraversion` из датафрейма `data` с помощью [функции](https://seaborn.pydata.org/generated/seaborn.histplot.html) `histplot()`:"
   ]
  },
  {
   "cell_type": "code",
   "execution_count": 9,
   "metadata": {},
   "outputs": [
    {
     "data": {
      "image/png": "[encoded data removed]",
      "text/plain": [
       "<Figure size 432x288 with 1 Axes>"
      ]
     },
     "metadata": {
      "needs_background": "light"
     },
     "output_type": "display_data"
    }
   ],
   "source": [
    "sns.histplot(data, x = \"extraversion\");"
   ]
  },
  {
   "cell_type": "markdown",
   "metadata": {},
   "source": [
    "Распределение вполне симметричное (это ожидаемо, многие индексы на основе психологического анкетирования составляются таким образом, чтобы их распределение теоретически было похоже на нормальное), но со странными «зазорами» в окрестности 9 и 16. Однако ничего особенно странного в отсутствии некоторых столбцов нет: обычно за разные ответы в опросе начисляется разное число баллов, затем эти баллы суммируются, в итоге некоторую сумму баллов просто технически невозможно получить в силу устройства опроса. Можем увеличить шаг гистограммы и избавиться от этих зазоров:"
   ]
  },
  {
   "cell_type": "code",
   "execution_count": 10,
   "metadata": {},
   "outputs": [
    {
     "data": {
      "image/png": "[encoded data removed]",
      "text/plain": [
       "<Figure size 432x288 with 1 Axes>"
      ]
     },
     "metadata": {
      "needs_background": "light"
     },
     "output_type": "display_data"
    }
   ],
   "source": [
    "# здесь уже есть аргумент binwidth,\n",
    "# более удобный, чем bins в matplotlib\n",
    "\n",
    "sns.histplot(data, x = \"extraversion\", binwidth = 2);"
   ]
  },
  {
   "cell_type": "markdown",
   "metadata": {},
   "source": [
    "Если нас интересует разделение по группам, можем добавить аргумент `hue` (цвет) и сделать цвет гистограммы зависимым от участия в волонтерской деятельности:"
   ]
  },
  {
   "cell_type": "code",
   "execution_count": 11,
   "metadata": {},
   "outputs": [
    {
     "data": {
      "image/png": "[encoded data removed]",
      "text/plain": [
       "<Figure size 432x288 with 1 Axes>"
      ]
     },
     "metadata": {
      "needs_background": "light"
     },
     "output_type": "display_data"
    }
   ],
   "source": [
    "sns.histplot(data, x = \"extraversion\", \n",
    "             hue = \"volunteer\");"
   ]
  },
  {
   "cell_type": "markdown",
   "metadata": {},
   "source": [
    "В целом, за счет прозрачности график выглядит довольно понятно, видно, что распределения уровня экстраверсии у не-волонтеров и волонтеров похожи, однако у вторых медиана выше, график немного сдвинут вправо. \n",
    "\n",
    "Для большей наглядности иногда переходят к другому типу графика – сглаженному графику плотности. Его можно построить, используя функцию `kdeplot()`, от *kernel density estimation*:"
   ]
  },
  {
   "cell_type": "code",
   "execution_count": 12,
   "metadata": {},
   "outputs": [
    {
     "data": {
      "image/png": "[encoded data removed]",
      "text/plain": [
       "<Figure size 432x288 with 1 Axes>"
      ]
     },
     "metadata": {
      "needs_background": "light"
     },
     "output_type": "display_data"
    }
   ],
   "source": [
    "# multiple = \"stack\" гарантирует заливку,\n",
    "# без этого аргумента здесь будут только линии\n",
    "\n",
    "sns.kdeplot(data, \n",
    "            x = \"extraversion\", \n",
    "            hue = \"volunteer\", \n",
    "            multiple = \"stack\");"
   ]
  },
  {
   "cell_type": "markdown",
   "metadata": {},
   "source": [
    "На этом графике тоже можно заметить небольшую разницу в медианах, плюс, явно видно, что волонтеров меньше, чем не-волонтеров. У сглаженных графиков плотности (оценка функции плотности по выборке) помимо преимущества в виде большей наглядности есть два недостатка:\n",
    "\n",
    "* при маленьком объеме выборки ($n < 30$) график может вводить в заблуждение, так как сглаживание происходит не совсем точно, как обычно, выборочное оценивание в таком случае связано с рядом проблем;\n",
    "\n",
    "* при наличии участков на числовой оси, в которые не попадает ни одно наблюдение (те самые «зазоры» на гистограмме), график может вводить в заблуждение, потому что при сглаживании плотности мы не увидим, что наблюдений на самом деле нет и что плотность там 0."
   ]
  },
  {
   "cell_type": "markdown",
   "metadata": {},
   "source": [
    "Можем для удобства разбить данные на группы и построить два графика в разных окнах (иногда их называют фасетками, как калька от *facets*), для этого понадобится более общая [функция](https://seaborn.pydata.org/generated/seaborn.displot.html#seaborn.displot) `displot()` от *distribution plot*:"
   ]
  },
  {
   "cell_type": "code",
   "execution_count": 13,
   "metadata": {},
   "outputs": [
    {
     "data": {
      "image/png": "[encoded data removed]",
      "text/plain": [
       "<Figure size 778.3x360 with 2 Axes>"
      ]
     },
     "metadata": {
      "needs_background": "light"
     },
     "output_type": "display_data"
    }
   ],
   "source": [
    "# col - столбцы в сетке графиков\n",
    "# хотим один график для no и один для yes в volunteer\n",
    "\n",
    "sns.displot(data, x = \"extraversion\", \n",
    "            hue = \"volunteer\", \n",
    "            col = \"volunteer\");"
   ]
  },
  {
   "cell_type": "markdown",
   "metadata": {},
   "source": [
    "По умолчанию строятся гистограммы (и уже с вполне разумными подписями и легендой, что прекрасно), но можем добавить аргумент `kind` и построить графики плотности:"
   ]
  },
  {
   "cell_type": "code",
   "execution_count": 14,
   "metadata": {},
   "outputs": [
    {
     "data": {
      "image/png": "[encoded data removed]",
      "text/plain": [
       "<Figure size 778.3x360 with 2 Axes>"
      ]
     },
     "metadata": {
      "needs_background": "light"
     },
     "output_type": "display_data"
    }
   ],
   "source": [
    "sns.displot(data, \n",
    "            x = \"extraversion\", \n",
    "            hue = \"volunteer\", \n",
    "            col = \"volunteer\", \n",
    "            kind = \"kde\",\n",
    "            multiple = \"stack\");"
   ]
  },
  {
   "cell_type": "markdown",
   "metadata": {},
   "source": [
    "В завершение знакомства с функцией `displot()` сделаем группировку сразу по двум признакам – по строкам будет группировка по полу, по столбцам – по участию в волонтерстве:"
   ]
  },
  {
   "cell_type": "code",
   "execution_count": 15,
   "metadata": {},
   "outputs": [
    {
     "data": {
      "image/png": "[encoded data removed]",
      "text/plain": [
       "<Figure size 778.3x720 with 4 Axes>"
      ]
     },
     "metadata": {
      "needs_background": "light"
     },
     "output_type": "display_data"
    }
   ],
   "source": [
    "# сетка два на два = четыре группы\n",
    "# гистограммы для каждой отдельно\n",
    "\n",
    "sns.displot(data, x = \"extraversion\", \n",
    "            hue = \"volunteer\", \n",
    "            col = \"volunteer\",\n",
    "            row = \"sex\");"
   ]
  },
  {
   "cell_type": "markdown",
   "metadata": {},
   "source": [
    "### Количественные данные: доверительный интервал для среднего"
   ]
  },
  {
   "cell_type": "markdown",
   "metadata": {},
   "source": [
    "Среднее значение индекса экстраверсии для волонтеров равно 12.94, а для не-волонтеров равно 11.96. При этом мы понимаем, что эти средние – просто оценки, полученные на конкретной выборке респондентов ($n = 1421$), которых опрашивали исследователи. На других выборках такого же объема средние могут быть другими, так как в выборки попадут другие люди. Чтобы учесть эту неопределенность и получить более универсальный, более общий результат, мы можем вычислить стандартную ошибку среднего:\n",
    "\n",
    "$$\n",
    "\\text{se} = \\frac{s}{\\sqrt{n}},\n",
    "$$\n",
    "\n",
    "где $s$ – выборочное стандартное отклонение, $n$ – объем выборки.\n",
    "\n",
    "Эта ошибка показывает, насколько, в среднем, выборочное среднее может изменяться от выборки к выборке при условии, что выборки будут одинакового объема $n$. В разных библиотеках Python есть функции, которые позволяют вычислить стандартную ошибку среднего, но так как считается она довольно просто, мы ее вычислим без импорта вспомогательных библиотек или модулей. Для начала зафиксируем все необходимые характеристики по группам:"
   ]
  },
  {
   "cell_type": "code",
   "execution_count": 16,
   "metadata": {},
   "outputs": [
    {
     "data": {
      "text/html": [
       "<div>\n",
       "<style scoped>\n",
       "    .dataframe tbody tr th:only-of-type {\n",
       "        vertical-align: middle;\n",
       "    }\n",
       "\n",
       "    .dataframe tbody tr th {\n",
       "        vertical-align: top;\n",
       "    }\n",
       "\n",
       "    .dataframe thead th {\n",
       "        text-align: right;\n",
       "    }\n",
       "</style>\n",
       "<table border=\"1\" class=\"dataframe\">\n",
       "  <thead>\n",
       "    <tr style=\"text-align: right;\">\n",
       "      <th></th>\n",
       "      <th>count</th>\n",
       "      <th>mean</th>\n",
       "      <th>std</th>\n",
       "    </tr>\n",
       "    <tr>\n",
       "      <th>volunteer</th>\n",
       "      <th></th>\n",
       "      <th></th>\n",
       "      <th></th>\n",
       "    </tr>\n",
       "  </thead>\n",
       "  <tbody>\n",
       "    <tr>\n",
       "      <th>no</th>\n",
       "      <td>824</td>\n",
       "      <td>11.962379</td>\n",
       "      <td>3.834333</td>\n",
       "    </tr>\n",
       "    <tr>\n",
       "      <th>yes</th>\n",
       "      <td>597</td>\n",
       "      <td>12.939698</td>\n",
       "      <td>3.907021</td>\n",
       "    </tr>\n",
       "  </tbody>\n",
       "</table>\n",
       "</div>"
      ],
      "text/plain": [
       "           count       mean       std\n",
       "volunteer                            \n",
       "no           824  11.962379  3.834333\n",
       "yes          597  12.939698  3.907021"
      ]
     },
     "execution_count": 16,
     "metadata": {},
     "output_type": "execute_result"
    }
   ],
   "source": [
    "tab = data.groupby(\"volunteer\")[\"extraversion\"].agg([\"count\", \"mean\", \"std\"])\n",
    "tab"
   ]
  },
  {
   "cell_type": "markdown",
   "metadata": {},
   "source": [
    "Извлечем из полученной таблицы объемы выборок, средние и стандартные отклонения:"
   ]
  },
  {
   "cell_type": "code",
   "execution_count": 17,
   "metadata": {},
   "outputs": [],
   "source": [
    "n1 = tab.loc[\"no\", \"count\"]\n",
    "n2 = tab.loc[\"yes\", \"count\"]\n",
    "\n",
    "mean1 = tab.loc[\"no\", \"mean\"]\n",
    "mean2 = tab.loc[\"yes\", \"mean\"]\n",
    "\n",
    "s1 = tab.loc[\"no\", \"std\"]\n",
    "s2 = tab.loc[\"yes\", \"std\"]"
   ]
  },
  {
   "cell_type": "markdown",
   "metadata": {},
   "source": [
    "Вычислим стандартные ошибки среднего и выведем результаты:"
   ]
  },
  {
   "cell_type": "code",
   "execution_count": 18,
   "metadata": {},
   "outputs": [
    {
     "name": "stdout",
     "output_type": "stream",
     "text": [
      "11.96 ± 0.13\n",
      "12.94 ± 0.16\n"
     ]
    }
   ],
   "source": [
    "se1 = s1 / n1 ** 0.5\n",
    "se2 = s2 / n2 ** 0.5\n",
    "\n",
    "print(round(mean1, 2), \"±\", round(se1, 2))\n",
    "print(round(mean2, 2), \"±\", round(se2, 2))"
   ]
  },
  {
   "cell_type": "markdown",
   "metadata": {},
   "source": [
    "Итак, теперь мы можем считать, что средние значения уровня экстраверсии могут отличаться от тех, что мы получили на конкретных выборках не-волонтеров и волонтеров, в среднем, на 0.13 и 0.16. Если вспомнить про эмпирическое правило трех сигм, мы сможем рассмотреть интервал \n",
    "\n",
    "$$\n",
    "\\text{mean} \\pm 3 \\times \\text{se}\n",
    "$$\n",
    "\n",
    "и найти границы, в которых в 99.8% случаев может лежать среднее выборки. А можем выбрать фиксированную вероятность – степень уверенности в результатах, уровень доверия, и построить доверительный интервал для среднего.\n",
    "\n",
    "Вспомним, как вычисляются границы доверительного интервала для среднего:\n",
    "\n",
    "$$\n",
    "\\bar{x} \\pm t^* \\times \\text{se},\n",
    "$$\n",
    "\n",
    "где $\\bar{x}$ – среднее, полученное по выборке, $t^*$ – t-значение из распределения Стьюдента, соответствующее выбранному уровню доверия, $\\text{se}$ – стандартная ошибка среднего. \n",
    "\n",
    "В модуле `stats` в подмодуле `t` для работы с распределением Стьюдента есть функция `interval()`, которая вычисляет границы симметричного интервала, в который значения попадают с заданной вероятностью. Другими словами, эта функция принимает на вход уровень доверия, значение среднего и стандартной ошибки, число степеней свободы (иначе распределение Стьюдента не будет задано однозначным образом), вычисляет $t^*$ в формуле выше и возвращает границы полученного интервала. \n",
    "\n",
    "Построим 95%-ный доверительный интервал для средних по группам:"
   ]
  },
  {
   "cell_type": "code",
   "execution_count": 19,
   "metadata": {},
   "outputs": [
    {
     "name": "stdout",
     "output_type": "stream",
     "text": [
      "(11.70019026789495, 12.224567013658447)\n",
      "(12.625655201134919, 13.253741783789703)\n"
     ]
    }
   ],
   "source": [
    "# число степеней свободы df = n - 1\n",
    "# так всегда при работе с одним средним\n",
    "# это число наблюдений, которого достаточно для восстановления\n",
    "# информации о распределении, если среднее известно\n",
    "\n",
    "print(st.t.interval(0.95, loc = mean1, scale = se1, df = n1 - 1))\n",
    "print(st.t.interval(0.95, loc = mean2, scale = se2, df = n2 - 1))"
   ]
  },
  {
   "cell_type": "markdown",
   "metadata": {},
   "source": [
    "Итак, с 95%-ной уверенностью можно утверждать, что среднее значение индекса экстраверсии для не-волонтеров лежит в интервале от 11.7 до 12.22, а среднее значение индекса экстраверсии для волонтеров – в интервале от 12.63 до 13.25. \n",
    "\n",
    "*Примечание.* Так как доверительные интервалы не пересекаются, на 95%-ном уровне доверия (5%-ном уровне значимости) можно считать, что средние значения уровня экстраверсии в двух группах различаются. Однако, если бы они пересекались, однозначного вывода об отсутствии различий сделать было бы нельзя, для оценки нужно понять величину пересечения и перейти к явной проверке гипотез."
   ]
  },
  {
   "cell_type": "markdown",
   "metadata": {},
   "source": [
    "### Количественные данные: проверка гипотезы о равенстве средних"
   ]
  },
  {
   "cell_type": "markdown",
   "metadata": {},
   "source": [
    "Разделим наши данные на две группы явно – отфильтруем соответствующие строки в отдельные датафреймы и заберем оттуда столбец `extraversion`:"
   ]
  },
  {
   "cell_type": "code",
   "execution_count": 20,
   "metadata": {},
   "outputs": [],
   "source": [
    "one = data[data[\"volunteer\"] == \"no\"][\"extraversion\"]\n",
    "two = data[data[\"volunteer\"] == \"yes\"][\"extraversion\"]"
   ]
  },
  {
   "cell_type": "markdown",
   "metadata": {},
   "source": [
    "Проверим с помощью двухвыборочного критерия Стьюдента для независимых выборок (*two sample t-test*) гипотезу о равенстве среднего уровня экстраверсии у волонтеров и не-волонтеров:\n",
    "\n",
    "$$\n",
    "H_0: \\mu_1 = \\mu_2\n",
    "$$"
   ]
  },
  {
   "cell_type": "markdown",
   "metadata": {},
   "source": [
    "Функция `ttest_ind()` (от *t-test for independent samples*):"
   ]
  },
  {
   "cell_type": "code",
   "execution_count": 21,
   "metadata": {},
   "outputs": [
    {
     "data": {
      "text/plain": [
       "Ttest_indResult(statistic=-4.704762015195624, pvalue=2.7894522770530837e-06)"
      ]
     },
     "execution_count": 21,
     "metadata": {},
     "output_type": "execute_result"
    }
   ],
   "source": [
    "# на входе две выборки – два столбца/массива/списка\n",
    "\n",
    "st.ttest_ind(one, two)"
   ]
  },
  {
   "cell_type": "markdown",
   "metadata": {},
   "source": [
    "Функция возвращает наблюдаемое значение статистики критерия и p-value. Если примем стандартный уровень значимости 5%, нулевую гипотезу следует отвергнуть (p-value < 0.05). Альтернативная гипотеза по умолчанию двусторонняя, то есть, отвергая $H_0$ мы автоматически соглашаемся на альтернативу $H_1: \\mu_1 \\ne \\mu_2$, то есть делаем вывод, что средние не равны.\n",
    "\n",
    "Если мы хотим выбрать одностороннюю альтернативу, то нужно определиться с ее направлением. По идее, направление нужно выбирать из теоретических ожиданий (первое среднее болььше второго или наоборот), но часто его выбирают, исходя из данных. В нашем случае среднее значение `extraversion` у волонтеров выше (и это логично с содержательной точки зрения), поэтому альтернатива будет такой:\n",
    "\n",
    "$$\n",
    "H_1: \\mu_1 < \\mu_2\n",
    "$$\n",
    "\n",
    "В функции `ttest_ind()` можно добавить аргумент для типа альтернативы:"
   ]
  },
  {
   "cell_type": "code",
   "execution_count": 22,
   "metadata": {},
   "outputs": [
    {
     "data": {
      "text/plain": [
       "Ttest_indResult(statistic=-4.704762015195624, pvalue=1.3947261385265418e-06)"
      ]
     },
     "execution_count": 22,
     "metadata": {},
     "output_type": "execute_result"
    }
   ],
   "source": [
    "# по умолчанию two-sided\n",
    "# less для <\n",
    "# greater для >\n",
    "\n",
    "st.ttest_ind(one, two, alternative = \"less\")"
   ]
  },
  {
   "cell_type": "markdown",
   "metadata": {},
   "source": [
    "Нулевая гипотеза по-прежнему отвергается. Так как t-распределение симметрично относительно 0, p-value при переходе к односторонней альтернативе получилось в два раза меньше (хотя здесь оно примерно 0, после округления мы этого не заметим)."
   ]
  },
  {
   "cell_type": "markdown",
   "metadata": {},
   "source": [
    "### Качественные данные: сравниваем частоты и доли в двух группах"
   ]
  },
  {
   "cell_type": "markdown",
   "metadata": {},
   "source": [
    "Изучим соотношение респондентов из разных категорий:"
   ]
  },
  {
   "cell_type": "code",
   "execution_count": 23,
   "metadata": {},
   "outputs": [
    {
     "data": {
      "text/plain": [
       "sex     volunteer\n",
       "female  no           431\n",
       "        yes          349\n",
       "male    no           393\n",
       "        yes          248\n",
       "Name: volunteer, dtype: int64"
      ]
     },
     "execution_count": 23,
     "metadata": {},
     "output_type": "execute_result"
    }
   ],
   "source": [
    "# группируем по полу и считаем no/yes в volunteer\n",
    "\n",
    "data.groupby(\"sex\")[\"volunteer\"].value_counts()"
   ]
  },
  {
   "cell_type": "markdown",
   "metadata": {},
   "source": [
    "Результат выше – объект `Series`, преобразуем его в датафрейм:"
   ]
  },
  {
   "cell_type": "code",
   "execution_count": 24,
   "metadata": {},
   "outputs": [
    {
     "data": {
      "text/html": [
       "<div>\n",
       "<style scoped>\n",
       "    .dataframe tbody tr th:only-of-type {\n",
       "        vertical-align: middle;\n",
       "    }\n",
       "\n",
       "    .dataframe tbody tr th {\n",
       "        vertical-align: top;\n",
       "    }\n",
       "\n",
       "    .dataframe thead th {\n",
       "        text-align: right;\n",
       "    }\n",
       "</style>\n",
       "<table border=\"1\" class=\"dataframe\">\n",
       "  <thead>\n",
       "    <tr style=\"text-align: right;\">\n",
       "      <th></th>\n",
       "      <th></th>\n",
       "      <th>volunteer</th>\n",
       "    </tr>\n",
       "    <tr>\n",
       "      <th>sex</th>\n",
       "      <th>volunteer</th>\n",
       "      <th></th>\n",
       "    </tr>\n",
       "  </thead>\n",
       "  <tbody>\n",
       "    <tr>\n",
       "      <th rowspan=\"2\" valign=\"top\">female</th>\n",
       "      <th>no</th>\n",
       "      <td>431</td>\n",
       "    </tr>\n",
       "    <tr>\n",
       "      <th>yes</th>\n",
       "      <td>349</td>\n",
       "    </tr>\n",
       "    <tr>\n",
       "      <th rowspan=\"2\" valign=\"top\">male</th>\n",
       "      <th>no</th>\n",
       "      <td>393</td>\n",
       "    </tr>\n",
       "    <tr>\n",
       "      <th>yes</th>\n",
       "      <td>248</td>\n",
       "    </tr>\n",
       "  </tbody>\n",
       "</table>\n",
       "</div>"
      ],
      "text/plain": [
       "                  volunteer\n",
       "sex    volunteer           \n",
       "female no               431\n",
       "       yes              349\n",
       "male   no               393\n",
       "       yes              248"
      ]
     },
     "execution_count": 24,
     "metadata": {},
     "output_type": "execute_result"
    }
   ],
   "source": [
    "tab = pd.DataFrame(data.groupby(\"sex\")[\"volunteer\"].value_counts())\n",
    "tab"
   ]
  },
  {
   "cell_type": "markdown",
   "metadata": {},
   "source": [
    "Получили датафрейм с мультииндексом – индекс строки состоит из двух частей, категория `sex` и `volunteer`. Для некоторых задач это может быть удобно, для некоторых – не очень. Если мы хотим вынести эти индексы в отдельные столбцы `sex` и `volunteer`, нам нужно сначала переименовать столбец `volunteer` (чтобы потом не получилось два одинаковых, это вызовет ошибку), а затем применить метод `.reset_index()`:"
   ]
  },
  {
   "cell_type": "code",
   "execution_count": 25,
   "metadata": {},
   "outputs": [
    {
     "data": {
      "text/html": [
       "<div>\n",
       "<style scoped>\n",
       "    .dataframe tbody tr th:only-of-type {\n",
       "        vertical-align: middle;\n",
       "    }\n",
       "\n",
       "    .dataframe tbody tr th {\n",
       "        vertical-align: top;\n",
       "    }\n",
       "\n",
       "    .dataframe thead th {\n",
       "        text-align: right;\n",
       "    }\n",
       "</style>\n",
       "<table border=\"1\" class=\"dataframe\">\n",
       "  <thead>\n",
       "    <tr style=\"text-align: right;\">\n",
       "      <th></th>\n",
       "      <th>sex</th>\n",
       "      <th>volunteer</th>\n",
       "      <th>counts</th>\n",
       "    </tr>\n",
       "  </thead>\n",
       "  <tbody>\n",
       "    <tr>\n",
       "      <th>0</th>\n",
       "      <td>female</td>\n",
       "      <td>no</td>\n",
       "      <td>431</td>\n",
       "    </tr>\n",
       "    <tr>\n",
       "      <th>1</th>\n",
       "      <td>female</td>\n",
       "      <td>yes</td>\n",
       "      <td>349</td>\n",
       "    </tr>\n",
       "    <tr>\n",
       "      <th>2</th>\n",
       "      <td>male</td>\n",
       "      <td>no</td>\n",
       "      <td>393</td>\n",
       "    </tr>\n",
       "    <tr>\n",
       "      <th>3</th>\n",
       "      <td>male</td>\n",
       "      <td>yes</td>\n",
       "      <td>248</td>\n",
       "    </tr>\n",
       "  </tbody>\n",
       "</table>\n",
       "</div>"
      ],
      "text/plain": [
       "      sex volunteer  counts\n",
       "0  female        no     431\n",
       "1  female       yes     349\n",
       "2    male        no     393\n",
       "3    male       yes     248"
      ]
     },
     "execution_count": 25,
     "metadata": {},
     "output_type": "execute_result"
    }
   ],
   "source": [
    "tab.rename(columns = {\"volunteer\" : \"counts\"}, inplace = True)\n",
    "\n",
    "# выносим в столбцы оба индекса\n",
    "# уровень 0 – sex выше\n",
    "# уровень 1 – volunteer выше\n",
    "\n",
    "fin = tab.reset_index(level = [0, 1])\n",
    "fin"
   ]
  },
  {
   "cell_type": "markdown",
   "metadata": {},
   "source": [
    "Такую таблицу можем уже использовать для построения [столбиковой диаграммы](https://seaborn.pydata.org/generated/seaborn.barplot.html) по группам с помощью `seaborn`:"
   ]
  },
  {
   "cell_type": "code",
   "execution_count": 26,
   "metadata": {},
   "outputs": [
    {
     "data": {
      "image/png": "[encoded data removed]",
      "text/plain": [
       "<Figure size 432x288 with 1 Axes>"
      ]
     },
     "metadata": {
      "needs_background": "light"
     },
     "output_type": "display_data"
    }
   ],
   "source": [
    "# по x ответы yes/no в volunteer\n",
    "# по y частоты из counts\n",
    "# в hue группировка по полу\n",
    "# в palette своя палитра цветов\n",
    "\n",
    "sns.barplot(fin, \n",
    "            x = \"volunteer\", \n",
    "            y = \"counts\", \n",
    "            hue = \"sex\",\n",
    "            palette = [\"salmon\", \"steelblue\"]);"
   ]
  },
  {
   "cell_type": "markdown",
   "metadata": {},
   "source": [
    "Для дальнейшей работы и перехода к долям нам понадобятся число мужчин и женщин среди респондентов:"
   ]
  },
  {
   "cell_type": "code",
   "execution_count": 27,
   "metadata": {},
   "outputs": [
    {
     "data": {
      "text/plain": [
       "female    780\n",
       "male      641\n",
       "Name: sex, dtype: int64"
      ]
     },
     "execution_count": 27,
     "metadata": {},
     "output_type": "execute_result"
    }
   ],
   "source": [
    "data[\"sex\"].value_counts()"
   ]
  },
  {
   "cell_type": "markdown",
   "metadata": {},
   "source": [
    "Извлечем частоты по отдельности:"
   ]
  },
  {
   "cell_type": "code",
   "execution_count": 28,
   "metadata": {},
   "outputs": [
    {
     "name": "stdout",
     "output_type": "stream",
     "text": [
      "780 641\n"
     ]
    }
   ],
   "source": [
    "n_female = data[\"sex\"].value_counts()[\"female\"]\n",
    "n_male = data[\"sex\"].value_counts()[\"male\"]\n",
    "print(n_female, n_male)"
   ]
  },
  {
   "cell_type": "markdown",
   "metadata": {},
   "source": [
    "Вычислим доли волонтеров и не-волонтеров среди женщин и мужчин:"
   ]
  },
  {
   "cell_type": "code",
   "execution_count": 29,
   "metadata": {},
   "outputs": [
    {
     "data": {
      "text/plain": [
       "sex     volunteer\n",
       "female  no           0.552564\n",
       "        yes          0.447436\n",
       "male    no           0.613105\n",
       "        yes          0.386895\n",
       "Name: volunteer, dtype: float64"
      ]
     },
     "execution_count": 29,
     "metadata": {},
     "output_type": "execute_result"
    }
   ],
   "source": [
    "# normalize = True\n",
    "\n",
    "res = data.groupby(\"sex\")[\"volunteer\"].value_counts(normalize = True)\n",
    "res"
   ]
  },
  {
   "cell_type": "markdown",
   "metadata": {},
   "source": [
    "Извлечем доли волонтеров среди женщин и мужчин, задействуем два ключа сразу, поскольку `res` – последовательность pandas с мультииндексом:"
   ]
  },
  {
   "cell_type": "code",
   "execution_count": 30,
   "metadata": {},
   "outputs": [
    {
     "name": "stdout",
     "output_type": "stream",
     "text": [
      "0.44743589743589746 0.3868954758190328\n"
     ]
    }
   ],
   "source": [
    "p_female = res[\"female\"][\"yes\"]\n",
    "p_male = res[\"male\"][\"yes\"]\n",
    "print(p_female, p_male)"
   ]
  },
  {
   "cell_type": "markdown",
   "metadata": {},
   "source": [
    "### Количественные данные: доверительный интервал для доли\n",
    "\n",
    "По аналогии со средним, мы можем вычислить стандартную ошибку доли:\n",
    "\n",
    "$$\n",
    "\\text{se} = \\frac{\\sqrt{\\hat{p}(1 - \\hat{p})}}{\\sqrt{n}},\n",
    "$$\n",
    "\n",
    "где $\\hat{p}$ – выборочная доля, $n$ – объем выборки.\n",
    "\n",
    "Эта ошибка показывает, насколько, в среднем, выборочная доля может изменяться от выборки к выборке при условии, что выборки будут одинакового объема $n$. Вычислим стандартные ошибки доли волонтеров для двух групп:"
   ]
  },
  {
   "cell_type": "code",
   "execution_count": 31,
   "metadata": {},
   "outputs": [
    {
     "name": "stdout",
     "output_type": "stream",
     "text": [
      "0.017803666257465586 0.019236899288686132\n"
     ]
    }
   ],
   "source": [
    "se_female = (p_female * (1 - p_female) / n_female) ** 0.5\n",
    "se_male = (p_male * (1 - p_male) / n_male) ** 0.5\n",
    "print(se_female, se_male)"
   ]
  },
  {
   "cell_type": "markdown",
   "metadata": {},
   "source": [
    "Итого получим следующие оценки доли волонтеров среди женщин и мужчин:"
   ]
  },
  {
   "cell_type": "code",
   "execution_count": 32,
   "metadata": {},
   "outputs": [
    {
     "name": "stdout",
     "output_type": "stream",
     "text": [
      "0.45 ± 0.02\n",
      "0.39 ± 0.02\n"
     ]
    }
   ],
   "source": [
    "print(round(p_female, 2), \"±\", round(se_female, 2))\n",
    "print(round(p_male, 2), \"±\", round(se_male, 2))"
   ]
  },
  {
   "cell_type": "markdown",
   "metadata": {},
   "source": [
    "Теперь вспомним, как вычисляются границы доверительного интервала для доли:\n",
    "\n",
    "$$\n",
    "\\hat{p} \\pm z^* \\times \\text{se},\n",
    "$$\n",
    "\n",
    "где $\\hat{p}$ – среднее, полученное по выборке, $z^*$ – z-значение из стандартного нормального распределения, соответствующее выбранному уровню доверия, $\\text{se}$ – стандартная ошибка доли. \n",
    "\n",
    "В модуле `stats` в подмодуле `norm` для работы с нормальным распределением есть функция `interval()`, которая вычисляет границы симметричного интервала, в который значения попадают с заданной вероятностью. Другими словами, эта функция принимает на вход уровень доверия, значение доли и стандартной ошибки, вычисляет $z^*$ в формуле выше и возвращает границы полученного интервала. \n",
    "\n",
    "Построим 90%-ный доверительный интервал для долей по группам:"
   ]
  },
  {
   "cell_type": "code",
   "execution_count": 33,
   "metadata": {},
   "outputs": [
    {
     "name": "stdout",
     "output_type": "stream",
     "text": [
      "(0.41815147241927164, 0.47672032245252327)\n",
      "(0.35525359225273717, 0.4185373593853284)\n"
     ]
    }
   ],
   "source": [
    "print(st.norm.interval(0.90, loc = p_female, scale = se_female))\n",
    "print(st.norm.interval(0.90, loc = p_male, scale = se_male))"
   ]
  },
  {
   "cell_type": "markdown",
   "metadata": {},
   "source": [
    "Итак, с 90%-ной уверенностью можно утверждать, что процент волонтеров среди женщин лежит в интервале от 42% до 48%, а процент волонтеров среди мужчин лежит в интервале от 36% до 42%. \n",
    "\n",
    "\n",
    "*Примечание.* Доверительные интервалы чуть-чуть накладываются друг на друга, тут без формальной проверки гипотез наличие статистически значимой разницы не выяснить."
   ]
  },
  {
   "cell_type": "markdown",
   "metadata": {},
   "source": [
    "### Качественные данные: проверка гипотезы о равенстве долей\n",
    "\n",
    "Так как с долями обычно работа устроена чуть более заморочено, чем со средними, для проверки гипотезы о равенстве долей понадобится отдельная функция `proportions_ztest()`, но не из модуля `stats` библиотеки `scipy`, а из модуля `stats` библиотеки `statsmodels`:"
   ]
  },
  {
   "cell_type": "code",
   "execution_count": 34,
   "metadata": {},
   "outputs": [
    {
     "name": "stderr",
     "output_type": "stream",
     "text": [
      "/opt/anaconda3/lib/python3.7/site-packages/statsmodels/tools/_testing.py:19: FutureWarning: pandas.util.testing is deprecated. Use the functions in the public API at pandas.testing instead.\n",
      "  import pandas.util.testing as tm\n"
     ]
    }
   ],
   "source": [
    "from statsmodels.stats.proportion import proportions_ztest"
   ]
  },
  {
   "cell_type": "markdown",
   "metadata": {},
   "source": [
    "Итак, проверяем следующую нулевую гипотезу против двусторонней альтернативы:\n",
    "\n",
    "$$\n",
    "H_0: p_1 = p_2\n",
    "$$\n",
    "$$\n",
    "H_1: p_1 \\ne p_2\n",
    "$$"
   ]
  },
  {
   "cell_type": "markdown",
   "metadata": {},
   "source": [
    "Запускаем проверку, функция `proportions_ztest()` принимает на вход число успехов (число ответов `yes` в каждой из групп в нашем случае) и объемы выборок (число мужчин и женщин здесь):"
   ]
  },
  {
   "cell_type": "code",
   "execution_count": 35,
   "metadata": {},
   "outputs": [
    {
     "data": {
      "text/plain": [
       "(2.3007425520686606, 0.021406187349667836)"
      ]
     },
     "execution_count": 35,
     "metadata": {},
     "output_type": "execute_result"
    }
   ],
   "source": [
    "# конечно, число ответов yes можно посчитать автоматически\n",
    "# здесь просто числа\n",
    "# аргумент alternative тоже есть, см help\n",
    "\n",
    "proportions_ztest(count = [349, 248], \n",
    "                  nobs = [n_female, n_male])"
   ]
  },
  {
   "cell_type": "markdown",
   "metadata": {},
   "source": [
    "Итак, наблюдамое значение статистики равно 2.3, p-value примерно 0.02. Если выберем стандартный уровень значимости $\\alpha = 5\\%$, нулевую гипотезу о равенстве долей отвергнем, доли волонтеров среди женщин и мужчин не равны."
   ]
  },
  {
   "cell_type": "markdown",
   "metadata": {},
   "source": [
    "### Дополнение: еще немного про мультииндексы"
   ]
  },
  {
   "cell_type": "markdown",
   "metadata": {},
   "source": [
    "Вернемся к таблице `res`:"
   ]
  },
  {
   "cell_type": "code",
   "execution_count": 36,
   "metadata": {},
   "outputs": [
    {
     "data": {
      "text/plain": [
       "sex     volunteer\n",
       "female  no           0.552564\n",
       "        yes          0.447436\n",
       "male    no           0.613105\n",
       "        yes          0.386895\n",
       "Name: volunteer, dtype: float64"
      ]
     },
     "execution_count": 36,
     "metadata": {},
     "output_type": "execute_result"
    }
   ],
   "source": [
    "res"
   ]
  },
  {
   "cell_type": "markdown",
   "metadata": {},
   "source": [
    "Объект `res` – последовательность pandas с мультииндексами. Посмотрим на них:"
   ]
  },
  {
   "cell_type": "code",
   "execution_count": 37,
   "metadata": {},
   "outputs": [
    {
     "name": "stdout",
     "output_type": "stream",
     "text": [
      "MultiIndex([('female',  'no'),\n",
      "            ('female', 'yes'),\n",
      "            (  'male',  'no'),\n",
      "            (  'male', 'yes')],\n",
      "           names=['sex', 'volunteer'])\n"
     ]
    }
   ],
   "source": [
    "print(res.index)"
   ]
  },
  {
   "cell_type": "markdown",
   "metadata": {},
   "source": [
    "Объект `MultiIndex`, так как здесь два уровня индексов (`sex` и `volunteer`) внутри – пары. \n",
    "Извлечение отдельных элементов производится по парам:"
   ]
  },
  {
   "cell_type": "code",
   "execution_count": 38,
   "metadata": {},
   "outputs": [
    {
     "data": {
      "text/plain": [
       "0.44743589743589746"
      ]
     },
     "execution_count": 38,
     "metadata": {},
     "output_type": "execute_result"
    }
   ],
   "source": [
    "# сразу парой через loc\n",
    "res.loc[(\"female\", \"yes\")]"
   ]
  },
  {
   "cell_type": "code",
   "execution_count": 39,
   "metadata": {},
   "outputs": [
    {
     "data": {
      "text/plain": [
       "0.44743589743589746"
      ]
     },
     "execution_count": 39,
     "metadata": {},
     "output_type": "execute_result"
    }
   ],
   "source": [
    "# через два ключа\n",
    "res[\"female\"][\"yes\"]"
   ]
  },
  {
   "cell_type": "markdown",
   "metadata": {},
   "source": [
    "Можно извлечь названия категорий на разных уровнях индексов: "
   ]
  },
  {
   "cell_type": "code",
   "execution_count": 40,
   "metadata": {},
   "outputs": [
    {
     "name": "stdout",
     "output_type": "stream",
     "text": [
      "Index(['female', 'female', 'male', 'male'], dtype='object', name='sex')\n",
      "Index(['no', 'yes', 'no', 'yes'], dtype='object', name='volunteer')\n"
     ]
    }
   ],
   "source": [
    "# уровень 0 – здесь пол\n",
    "print(res.index.get_level_values(0))\n",
    "\n",
    "# уровень 1 – здесь волонтерство\n",
    "print(res.index.get_level_values(1))"
   ]
  },
  {
   "cell_type": "markdown",
   "metadata": {},
   "source": [
    "А можно сделать срез по какому-то из уровней через метод `.xs()`:"
   ]
  },
  {
   "cell_type": "code",
   "execution_count": 41,
   "metadata": {},
   "outputs": [
    {
     "data": {
      "text/plain": [
       "volunteer\n",
       "no     0.552564\n",
       "yes    0.447436\n",
       "Name: volunteer, dtype: float64"
      ]
     },
     "execution_count": 41,
     "metadata": {},
     "output_type": "execute_result"
    }
   ],
   "source": [
    "# значение female в уровне 0 (пол)\n",
    "\n",
    "res.xs('female', level = 0)"
   ]
  },
  {
   "cell_type": "code",
   "execution_count": 42,
   "metadata": {},
   "outputs": [
    {
     "data": {
      "text/plain": [
       "sex\n",
       "female    0.447436\n",
       "male      0.386895\n",
       "Name: volunteer, dtype: float64"
      ]
     },
     "execution_count": 42,
     "metadata": {},
     "output_type": "execute_result"
    }
   ],
   "source": [
    "# значение yes в уровне 1 (волонтерство)\n",
    "\n",
    "res.xs('yes', level = 1)"
   ]
  },
  {
   "cell_type": "code",
   "execution_count": 43,
   "metadata": {},
   "outputs": [
    {
     "data": {
      "text/plain": [
       "sex\n",
       "female    44.743590\n",
       "male      38.689548\n",
       "Name: volunteer, dtype: float64"
      ]
     },
     "execution_count": 43,
     "metadata": {},
     "output_type": "execute_result"
    }
   ],
   "source": [
    "res.xs('yes', level = 1) * 100"
   ]
  }
 ],
 "metadata": {
  "kernelspec": {
   "display_name": "Python 3",
   "language": "python",
   "name": "python3"
  },
  "language_info": {
   "codemirror_mode": {
    "name": "ipython",
    "version": 3
   },
   "file_extension": ".py",
   "mimetype": "text/x-python",
   "name": "python",
   "nbconvert_exporter": "python",
   "pygments_lexer": "ipython3",
   "version": "3.7.4"
  }
 },
 "nbformat": 4,
 "nbformat_minor": 2
}

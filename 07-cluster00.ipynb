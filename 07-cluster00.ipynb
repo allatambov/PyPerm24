{
 "cells": [
  {
   "cell_type": "markdown",
   "metadata": {},
   "source": [
    "# Анализ данных на Python\n",
    "\n",
    "*Алла Тамбовцева* \n",
    "\n",
    "## Кластеризация количественных данных. Иерархический кластерный анализ: введение\n",
    "\n",
    "Иерархический кластерный анализ решает задачу **классификации без обучения** на данных, распределение которых нам **неизвестно**. Другими словами, классический кластерный анализ распределяет имеющиеся в массиве данных наблюдения на группы, не предлагая при этом алгоритм для предсказания класса, к которому будет отнесено то или иное наблюдение. \n",
    "\n",
    "Для реализации иерархического кластерного анализа **на входе** необходимо иметь $p$-мерный массив данных (датафрейм из $n$ строк и $p$ столбцов), при этом заранее знать количество кластеров, которое мы хотим получить, необязательно.\n",
    "\n",
    "**На выходе** получаем правило, которое позволяет наилучшим образом разбить имеющиеся наблюдения на однородные в определённом смысле группы. Иерархический кластерный анализ не предлагает единственного решения, некоторого оптимального разбиения на кластеры, поэтому именно на исследователя возлагается задача выбрать наилучший вариант классификации. Тем не менее, однородность групп достигается довольно понятным образом, в кластерном анализе реализуется довольно распространённый для сравнения групп принцип: внутригрупповой разброс значений должен быть минимальным, а межгрупповой разброс – довольно существенным."
   ]
  },
  {
   "cell_type": "markdown",
   "metadata": {},
   "source": [
    "Почему этот тип кластерного анализа называется иерархическим? В основе данного вида кластерного анализа лежат **два предположения**:\n",
    "\n",
    "1. На самом первом шаге кластерного анализа количество кластеров совпадает с количеством наблюдений (имеем $n$ кластеров, состоящих ровно из одного наблюдения).\n",
    "\n",
    "2. Количество кластеров заранее неизвестно, мы объединяем точки в кластеры до тех пор, пока не получим один большой кластер. Так, на первом шаге иерархического кластерного анализа у нас есть n кластеров, на втором шаге $(n − 1)$ кластеров, на третьем уже $(n − 2)$ кластеров, и так далее, а на последнем шаге остаётся один кластер. Другими словами, мы выстраиваем некоторую иерархию из кластеров, вложенных друг в друга, а потом решаем, на каком делении, более детальном (много маленьких кластеров) или более общем (мало больших кластеров), стоит остановиться.\n",
    "\n",
    "**Пример.** Чтобы понять, какая идея стоит за алгоритмами реализации кластерного анализа, давайте рассмотрим следующую задачу. Пусть у нас есть небольшой двумерный массив данных, где $X$ – время, на которое преподаватель опаздывает на пару (в минутах), а $Y$ – время, на которое преподаватель опаздывает на личные встречи (в минутах):\n",
    "\n",
    "<table border=\"1\" class=\"dataframe\">\n",
    "  <thead>\n",
    "    <tr style=\"text-align: right;\">\n",
    "      <th></th>\n",
    "      <th>X</th>\n",
    "      <th>Y</th>\n",
    "    </tr>\n",
    "  </thead>\n",
    "  <tbody>\n",
    "    <tr>\n",
    "      <th>0</th>\n",
    "      <td>2</td>\n",
    "      <td>6</td>\n",
    "    </tr>\n",
    "    <tr>\n",
    "      <th>1</th>\n",
    "      <td>2</td>\n",
    "      <td>8</td>\n",
    "    </tr>\n",
    "    <tr>\n",
    "      <th>2</th>\n",
    "      <td>8</td>\n",
    "      <td>2</td>\n",
    "    </tr>\n",
    "    <tr>\n",
    "      <th>3</th>\n",
    "      <td>10</td>\n",
    "      <td>3</td>\n",
    "    </tr>\n",
    "    <tr>\n",
    "      <th>4</th>\n",
    "      <td>5</td>\n",
    "      <td>5</td>\n",
    "    </tr>\n",
    "  </tbody>\n",
    "</table>"
   ]
  },
  {
   "cell_type": "code",
   "execution_count": null,
   "metadata": {},
   "outputs": [],
   "source": [
    "import numpy as np\n",
    "from matplotlib import pyplot as plt\n",
    "\n",
    "x = np.array([2, 2, 8, 10, 5])\n",
    "y = np.array([6, 8, 2, 3, 5])\n",
    "\n",
    "plt.scatter(x, y);"
   ]
  },
  {
   "cell_type": "markdown",
   "metadata": {},
   "source": [
    "Возникает логичный вопрос: что нам понадобится, чтобы поделить все эти наблюдения на группы?"
   ]
  },
  {
   "cell_type": "code",
   "execution_count": null,
   "metadata": {},
   "outputs": [],
   "source": [
    "### предположения"
   ]
  },
  {
   "cell_type": "code",
   "execution_count": null,
   "metadata": {},
   "outputs": [],
   "source": [
    "A = np.column_stack((x, y))\n",
    "print(A)\n",
    "\n",
    "D = np.zeros((A.shape[0], A.shape[0]))\n",
    "print(D)"
   ]
  },
  {
   "cell_type": "code",
   "execution_count": null,
   "metadata": {},
   "outputs": [],
   "source": [
    "from scipy.cluster.hierarchy import distance\n",
    "\n",
    "for i in range(0, A.shape[0]):\n",
    "    for j in range(0, A.shape[0]):\n",
    "        if i >= j:\n",
    "            D[i, j] = distance.euclidean(A[i], A[j]) \n",
    "print(D)"
   ]
  },
  {
   "cell_type": "code",
   "execution_count": null,
   "metadata": {},
   "outputs": [],
   "source": [
    "np.rot90(np.fliplr(D))"
   ]
  },
  {
   "cell_type": "code",
   "execution_count": null,
   "metadata": {},
   "outputs": [],
   "source": [
    "# итоговый шаг"
   ]
  },
  {
   "cell_type": "code",
   "execution_count": null,
   "metadata": {},
   "outputs": [],
   "source": [
    "from scipy.cluster.hierarchy import linkage, dendrogram\n",
    "\n",
    "hc = linkage(A, metric = \"euclidean\", method = \"complete\")\n",
    "dendrogram(hc);"
   ]
  },
  {
   "cell_type": "code",
   "execution_count": null,
   "metadata": {},
   "outputs": [],
   "source": [
    "print(hc)"
   ]
  },
  {
   "cell_type": "code",
   "execution_count": null,
   "metadata": {},
   "outputs": [],
   "source": [
    "dendrogram(hc, color_threshold = 3);"
   ]
  },
  {
   "cell_type": "code",
   "execution_count": null,
   "metadata": {},
   "outputs": [],
   "source": [
    "plt.figure(figsize = (16, 9))\n",
    "dendrogram(hc, color_threshold = 0)\n",
    "plt.hlines(y = 3.5, xmin = 0, xmax = 50, color = \"red\");"
   ]
  }
 ],
 "metadata": {
  "kernelspec": {
   "display_name": "Python 3",
   "language": "python",
   "name": "python3"
  },
  "language_info": {
   "codemirror_mode": {
    "name": "ipython",
    "version": 3
   },
   "file_extension": ".py",
   "mimetype": "text/x-python",
   "name": "python",
   "nbconvert_exporter": "python",
   "pygments_lexer": "ipython3",
   "version": "3.7.4"
  }
 },
 "nbformat": 4,
 "nbformat_minor": 2
}

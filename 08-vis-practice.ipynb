{
 "cells": [
  {
   "cell_type": "markdown",
   "metadata": {},
   "source": [
    "# Анализ данных на Python\n",
    "\n",
    "*Алла Тамбовцева*\n",
    "\n",
    "## Практикум по визуализации с `matplotlib`"
   ]
  },
  {
   "cell_type": "markdown",
   "metadata": {},
   "source": [
    "Импортируем библиотеки, нам понадобится необходимый минимум:"
   ]
  },
  {
   "cell_type": "code",
   "execution_count": null,
   "metadata": {},
   "outputs": [],
   "source": [
    "import pandas as pd\n",
    "from matplotlib import pyplot as plt"
   ]
  },
  {
   "cell_type": "markdown",
   "metadata": {},
   "source": [
    "Выключим предупреждения от `pandas`, возникающие при работе с копиями столбцов при создании новых на основе старых:"
   ]
  },
  {
   "cell_type": "code",
   "execution_count": null,
   "metadata": {},
   "outputs": [],
   "source": [
    "pd.set_option('chained_assignment', None)"
   ]
  },
  {
   "cell_type": "markdown",
   "metadata": {},
   "source": [
    "Загрузим данные из файла `Online Retail.csv` и удалим строки с пропущенными значениями:"
   ]
  },
  {
   "cell_type": "code",
   "execution_count": null,
   "metadata": {},
   "outputs": [],
   "source": [
    "sales = pd.read_csv(\"Online Retail.csv\")\n",
    "sales.dropna(inplace = True)\n",
    "sales.head()"
   ]
  },
  {
   "cell_type": "markdown",
   "metadata": {},
   "source": [
    "Переменные в файле (источник – [Kaggle](https://www.kaggle.com/datasets/mysarahmadbhat/customersegmentation), данные по транзакциям покупателей, преимущественно оптовых, одного крупного сувернирного онлайн-маркета, зарегистрированного в Великобритании):\n",
    "    \n",
    "* `InvoiceNo`: номер транзакции;\n",
    "* `StockCode`: код товара;\n",
    "* `Description`: описание товара;\n",
    "* `Quantity`: сколько единиц товара куплено;\n",
    "* `InvoiceDate`: дата и время транзакции;\n",
    "* `UnitPrice`: цена товара;\n",
    "* `CustomerID`: ID покупателя;\n",
    "* `Country`: страна проживания покупателя."
   ]
  },
  {
   "cell_type": "markdown",
   "metadata": {},
   "source": [
    "### Задача 1: подготовка данных \n",
    "\n",
    "Сформируйте таблицу частот `tab` для столбца `Country` в виде последовательности `pandas Series` и замените в ней название страны `EIRE` на `Ireland`.\n",
    "\n",
    "Удалите запись с ключом `Unspecified`, так закодированы покупки, сделанные пользователями из стран без указанного названия. Удалите запись с ключом `United Kingdom` – компания зарегистрирована в этой стране, нас будут интересовать покупки пользователей из других стран.\n",
    "\n",
    "Замените названия стран, которые встречаются в датафрейме реже, чем 100 раз, на название `Other`. Избавьтесь от дубликатов и объедините все строки с `Other` в одну категорию, просуммировав соответствующие частоты. При необходимости отсортируйте строки в `tab` по убыванию значений, это пригодится для последующей визуализации."
   ]
  },
  {
   "cell_type": "code",
   "execution_count": null,
   "metadata": {},
   "outputs": [],
   "source": [
    "### YOUR CODE HERE ###"
   ]
  },
  {
   "cell_type": "markdown",
   "metadata": {},
   "source": [
    "### Задача 2: строим столбиковую диаграмму для стран"
   ]
  },
  {
   "cell_type": "code",
   "execution_count": null,
   "metadata": {},
   "outputs": [],
   "source": [
    "x = tab.index\n",
    "y = tab.values\n",
    "\n",
    "fig, ax = plt.subplots(figsize = (16, 9), dpi = 300)\n",
    "\n",
    "# сама диаграмма\n",
    "ax.bar(x, y);\n",
    "\n",
    "# заголовок\n",
    "ax.set_title(\"Non-UK customers' country of residence\", \n",
    "             loc = \"left\",\n",
    "             fontsize = 16,\n",
    "             fontweight = \"bold\");\n",
    "\n",
    "# подписи по оси X\n",
    "ax.tick_params(axis = 'x', \n",
    "               labelrotation = 45)\n",
    "\n",
    "# подпись ко всей оси Y\n",
    "ax.set_ylabel(\"Number of customers\", \n",
    "              labelpad = 20);\n",
    "\n",
    "# сетка\n",
    "ax.grid(color = 'grey', \n",
    "        alpha = 0.6, \n",
    "        linestyle = 'dashed');\n",
    "\n",
    "ax.set_axisbelow(True)"
   ]
  },
  {
   "cell_type": "markdown",
   "metadata": {},
   "source": [
    "### Задача 3: подготовка данных \n",
    "\n",
    "Отберите строки исходного датафрейма, которые соответствуют покупкам пользователей из Германии (`Germany`) и сохраните их в датафрейм `grm`. Отберите из `grm` строки, которые соответствуют заказам, содержащим чашки или кружки (`MUG` в описании товара), и сохраните их в датафрейм `mugs`. \n",
    "\n",
    "Выберите топ-10 самых популярных кружек и по аналогии с задачей 1 сформируйте таблицу частот `mg`, где кружки с частотой менее 8 «схлопнуты» в категорию `OTHER`. Измените формат названий категорий – примените функцию, написанную ниже."
   ]
  },
  {
   "cell_type": "code",
   "execution_count": null,
   "metadata": {},
   "outputs": [],
   "source": [
    "def get_clean(x):\n",
    "    x = x.lower()\n",
    "    x = x.replace(\"coffee mug\", \"mug\").\\\n",
    "    replace(\"mug\", \"\").replace(\"design\", \"\")\n",
    "    x = x.replace(\"  \", \" \")\n",
    "    x = x.strip().capitalize()\n",
    "    return x\n",
    "\n",
    "### YOUR CODE HERE ###"
   ]
  },
  {
   "cell_type": "markdown",
   "metadata": {},
   "source": [
    "### Задача 4: строим круговую и кольцевую диаграмму"
   ]
  },
  {
   "cell_type": "code",
   "execution_count": null,
   "metadata": {},
   "outputs": [],
   "source": [
    "# ради всего святого, не стройте базовые круговые диаграммы, это катастрофа\n",
    "\n",
    "labs = mg.index\n",
    "vals = mg.values\n",
    "\n",
    "fig, ax = plt.subplots(figsize = (16, 9), dpi = 300)\n",
    "\n",
    "ax.pie(vals, labels = labs, \n",
    "       autopct = '%.1f%%', \n",
    "       pctdistance = 0.7,\n",
    "       textprops = dict(fontsize = 14));"
   ]
  },
  {
   "cell_type": "code",
   "execution_count": null,
   "metadata": {},
   "outputs": [],
   "source": [
    "# переходим на кольцевую диаграмму (ring/donut diagram)\n",
    "\n",
    "fig, ax = plt.subplots(figsize = (16, 9), dpi = 300)\n",
    "\n",
    "ax.pie(vals, labels = labs, \n",
    "       autopct = '%.1f%%', \n",
    "       pctdistance = 0.8,\n",
    "       textprops = dict(fontsize = 14));\n",
    "\n",
    "centre_circle = plt.Circle((0, 0), 0.6, fc = 'white')\n",
    "fig.gca().add_artist(centre_circle);"
   ]
  },
  {
   "cell_type": "code",
   "execution_count": null,
   "metadata": {},
   "outputs": [],
   "source": [
    "# выносим названия в легенду\n",
    "\n",
    "fig, ax = plt.subplots(figsize = (16, 9), dpi = 300)\n",
    "\n",
    "# wedges – сектора, они же patches\n",
    "# texts – подписи, они же labels\n",
    "# autotexts – подписи с процентами\n",
    "\n",
    "wedges, texts, autotexts = ax.pie(vals, \n",
    "                                  autopct = '%.1f%%',\n",
    "                                  pctdistance = 0.8, \n",
    "                                  textprops = dict(fontsize = 16));\n",
    "\n",
    "ax.legend(wedges, labs,\n",
    "          title = \"Types\",\n",
    "          loc = \"upper left\",\n",
    "          bbox_to_anchor = (1, 0, 0.5, 1))\n",
    "\n",
    "centre_circle = plt.Circle((0, 0), 0.6, fc = 'white')\n",
    "\n",
    "fig.gca().add_artist(centre_circle);"
   ]
  },
  {
   "cell_type": "code",
   "execution_count": null,
   "metadata": {},
   "outputs": [],
   "source": [
    "# добавляем свои цвета, исправляем легенду\n",
    "# палитры https://coolors.co/\n",
    "\n",
    "cols = [\"#F78154\", \"#F2C14E\", \"#B4436C\", \"#525174\", \n",
    "        \"#454955\", \"#BCBD8D\", \"#5FAD56\"]\n",
    "\n",
    "fig, ax = plt.subplots(figsize = (16, 9), dpi = 300)\n",
    "\n",
    "wedges, texts, autotexts = ax.pie(vals, \n",
    "                                  colors = cols,\n",
    "                                  autopct = \"%.1f%%\",\n",
    "                                  pctdistance = 0.8,\n",
    "                                  textprops = dict(fontsize = 14));\n",
    "\n",
    "# выключаем рамку у легенды, двигаем ее\n",
    "\n",
    "ax.legend(wedges, labs,\n",
    "          loc = \"upper left\",\n",
    "          bbox_to_anchor = (-0.3, 0.8),\n",
    "          frameon = False);\n",
    "\n",
    "# добавляем заголовок графика\n",
    "ax.set_title(\"Design of the most popular mug types: \\nGerman customers\", \n",
    "            fontsize = 16, \n",
    "            loc = \"left\", \n",
    "            fontweight = \"bold\");\n",
    "\n",
    "centre_circle = plt.Circle((0, 0), 0.6, fc = \"white\")\n",
    "fig.gca().add_artist(centre_circle);"
   ]
  },
  {
   "cell_type": "code",
   "execution_count": null,
   "metadata": {},
   "outputs": [],
   "source": [
    "# изучаем составные части,\n",
    "# чтобы позволить себе более тонкие настройки\n",
    "\n",
    "print(wedges, end = \"\\n\\n\")\n",
    "print(texts, end = \"\\n\\n\")\n",
    "print(autotexts, end = \"\\n\\n\")\n",
    "\n",
    "for wedge in wedges:\n",
    "    print(wedge.get_facecolor())\n",
    "    print([int(i * 255) for i in wedge.get_facecolor()[0:-1]])"
   ]
  },
  {
   "cell_type": "code",
   "execution_count": null,
   "metadata": {},
   "outputs": [],
   "source": [
    "print([atext.get_color() for atext in autotexts])\n",
    "\n",
    "# создаем свой список цветов для подписей с процентами (white, black)\n",
    "# изменяем атрибут color внутри каждого элемента в autotexts\n",
    "\n",
    "text_cols = [\"k\", \"k\", \"w\", \"w\", \"w\", \"k\", \"k\"]\n",
    "\n",
    "for autotext, color in zip(autotexts, text_cols):\n",
    "    autotext.set_color(color)\n",
    "    \n",
    "print([atext.get_color() for atext in autotexts])"
   ]
  },
  {
   "cell_type": "code",
   "execution_count": null,
   "metadata": {},
   "outputs": [],
   "source": [
    "cols = [\"#F78154\", \"#F2C14E\", \"#B4436C\", \"#525174\", \n",
    "        \"#454955\", \"#BCBD8D\", \"#5FAD56\"]\n",
    "\n",
    "fig, ax = plt.subplots(figsize = (16, 9), dpi = 300)\n",
    "\n",
    "wedges, texts, autotexts = ax.pie(vals, \n",
    "                                  colors = cols,\n",
    "                                  autopct = \"%.1f%%\",\n",
    "                                  pctdistance = 0.8,\n",
    "                                  textprops = dict(fontsize = 14));\n",
    "\n",
    "# добавляем фрагмент с изменением цвета текста сюда\n",
    "# после определения autotexts\n",
    "\n",
    "text_cols = [\"k\", \"k\", \"w\", \"w\", \"w\", \"k\", \"k\"]\n",
    "\n",
    "for autotext, color in zip(autotexts, text_cols):\n",
    "    autotext.set_color(color)\n",
    "\n",
    "ax.legend(wedges, labs,\n",
    "          loc = \"upper left\",\n",
    "          bbox_to_anchor = (-0.3, 0.8),\n",
    "          frameon = False);\n",
    "\n",
    "ax.set_title(\"Design of the most popular mug types: \\nGerman customers\", \n",
    "            fontsize = 16, \n",
    "            loc = \"left\", \n",
    "            fontweight = \"bold\");\n",
    "\n",
    "centre_circle = plt.Circle((0, 0), 0.6, fc = \"white\")\n",
    "fig.gca().add_artist(centre_circle);"
   ]
  },
  {
   "cell_type": "code",
   "execution_count": null,
   "metadata": {},
   "outputs": [],
   "source": [
    "# попробуем убрать легенду\n",
    "\n",
    "cols = [\"#F78154\", \"#F2C14E\", \"#B4436C\", \"#525174\", \n",
    "        \"#454955\", \"#BCBD8D\", \"#5FAD56\"]\n",
    "\n",
    "fig, ax = plt.subplots(figsize = (16, 9), dpi = 300)\n",
    "\n",
    "wedges, texts, autotexts = ax.pie(vals,\n",
    "                                  labels = labs,\n",
    "                                  colors = cols,\n",
    "                                  autopct = \"%.1f%%\",\n",
    "                                  pctdistance = 0.8,\n",
    "                                  textprops = dict(fontsize = 14));\n",
    "\n",
    "text_cols = [\"k\", \"k\", \"w\", \"w\", \"w\", \"k\", \"k\"]\n",
    "\n",
    "for autotext, color in zip(autotexts, text_cols):\n",
    "    autotext.set_color(color)\n",
    "    \n",
    "ax.set_title(\"Design of the most popular mug types: \\nGerman customers\", \n",
    "            fontsize = 16, \n",
    "            loc = \"left\", \n",
    "            fontweight = \"bold\");\n",
    "\n",
    "centre_circle = plt.Circle((0, 0), 0.6, fc = \"white\")\n",
    "fig.gca().add_artist(centre_circle);"
   ]
  },
  {
   "cell_type": "code",
   "execution_count": null,
   "metadata": {},
   "outputs": [],
   "source": [
    "# завершающий этап: делаем цвета подписей такими же, \n",
    "# как и у секторов, и без легенды хорошо\n",
    "\n",
    "cols = [\"#F78154\", \"#F2C14E\", \"#B4436C\", \"#525174\", \n",
    "        \"#454955\", \"#BCBD8D\", \"#5FAD56\"]\n",
    "\n",
    "fig, ax = plt.subplots(figsize = (16, 9), dpi = 300)\n",
    "\n",
    "wedges, texts, autotexts = ax.pie(vals,\n",
    "                                  labels = labs,\n",
    "                                  colors = cols,\n",
    "                                  autopct = \"%i%%\",\n",
    "                                  pctdistance = 0.8,\n",
    "                                  textprops = dict(fontsize = 14));\n",
    "\n",
    "# прошлый фрагмент кода для цвета процентов\n",
    "\n",
    "text_cols = [\"k\", \"k\", \"w\", \"w\", \"w\", \"k\", \"k\"]\n",
    "\n",
    "for autotext, color in zip(autotexts, text_cols):\n",
    "    autotext.set_color(color)\n",
    "    \n",
    "# новый фрагмент кода для согласования цветов\n",
    "# забираем цвет сектора через get_facecolor()\n",
    "# выставляем его в подписях через set_color()\n",
    "\n",
    "for i, wedge in enumerate(wedges):\n",
    "    texts[i].set_color(wedge.get_facecolor())\n",
    "    \n",
    "ax.set_title(\"Design of the most popular mug types: \\nGerman customers\", \n",
    "            fontsize = 16, \n",
    "            loc = \"left\", \n",
    "            fontweight = \"bold\");\n",
    "\n",
    "centre_circle = plt.Circle((0, 0), 0.6, fc = \"white\")\n",
    "fig.gca().add_artist(centre_circle);\n",
    "\n",
    "# хватит развлекаться, сохраняем и идём дальше\n",
    "\n",
    "fig.savefig(\"ring.png\")"
   ]
  },
  {
   "cell_type": "code",
   "execution_count": null,
   "metadata": {},
   "outputs": [],
   "source": [
    "### TO DO LIST ###\n",
    "\n",
    "# выбрать более темные цвета для Pears и Cake\n",
    "# разбить длинные подписи на две строки\n",
    "# подвинуть заголовок"
   ]
  },
  {
   "cell_type": "markdown",
   "metadata": {},
   "source": [
    "### Задача 5: подготовка данных\n",
    "\n",
    "Добавьте в исходный датафрейм столбец `Month` с номером месяца, извлечённым из даты покупки. Сформируйте таблицу частот `sales_time`, которая показывает, сколько в сумме было куплено товаров за каждый месяц. Упорядочьте месяцы в хронологическом порядке."
   ]
  },
  {
   "cell_type": "code",
   "execution_count": null,
   "metadata": {},
   "outputs": [],
   "source": [
    "### YOUR CODE HERE ###"
   ]
  },
  {
   "cell_type": "markdown",
   "metadata": {},
   "source": [
    "### Задача 6: строим линейный график для динамики"
   ]
  },
  {
   "cell_type": "code",
   "execution_count": null,
   "metadata": {},
   "outputs": [],
   "source": [
    "# простой график\n",
    "\n",
    "x_ = range(0, 12)\n",
    "y_ = sales_time.values\n",
    "\n",
    "fig, ax = plt.subplots(figsize = (16, 9), dpi = 300)\n",
    "ax.plot(x_, y_);"
   ]
  },
  {
   "cell_type": "code",
   "execution_count": null,
   "metadata": {},
   "outputs": [],
   "source": [
    "# корректируем оси\n",
    "\n",
    "x_ = range(0, 12)\n",
    "y_ = sales_time.values\n",
    "months = [\"January\", \"February\",  \"March\", \"April\", \"May\", \"June\", \"July\", \n",
    "          \"August\", \"September\", \"October\", \"November\", \"December\"]\n",
    "\n",
    "fig, ax = plt.subplots(figsize = (16, 9), dpi = 300)\n",
    "ax.plot(x_, y_);\n",
    "\n",
    "# фиксируем засечки по оси x – xticks\n",
    "# фиксируем подписи к засечкам – xticklabels\n",
    "\n",
    "ax.set_xticks(x_)\n",
    "ax.set_xticklabels(months);\n",
    "\n",
    "# сетка\n",
    "ax.grid(color = 'grey', alpha = 0.6, linestyle = 'dashed');\n",
    "ax.set_axisbelow(True)"
   ]
  },
  {
   "cell_type": "code",
   "execution_count": null,
   "metadata": {},
   "outputs": [],
   "source": [
    "# отмечаем минимум и максимум\n",
    "\n",
    "x_ = range(0, 12)\n",
    "y_ = sales_time.values\n",
    "months = [\"January\", \"February\",  \"March\", \"April\", \"May\", \"June\", \"July\", \n",
    "          \"August\", \"September\", \"October\", \"November\", \"December\"]\n",
    "\n",
    "fig, ax = plt.subplots(figsize = (16, 9), dpi = 300)\n",
    "\n",
    "# добавляем точки на линию\n",
    "ax.plot(x_, y_, \"-o\");\n",
    "\n",
    "ax.set_xticks(x_)\n",
    "ax.set_xticklabels(months);\n",
    "\n",
    "ax.grid(color = 'grey', alpha = 0.6, linestyle = 'dashed');\n",
    "ax.set_axisbelow(True)\n",
    "\n",
    "# точки с минимумом и максимумом\n",
    "\n",
    "y_min, y_max = y_.min(), y_.max()\n",
    "x_min, x_max = y_.argmin(), y_.argmax()\n",
    "\n",
    "# еще одни точки поверх, но другого цвета\n",
    "\n",
    "ax.plot([x_min, x_max], \n",
    "           [y_min, y_max], \"ro\");\n",
    "\n",
    "# добавляем подписи\n",
    "\n",
    "ax.set_title(\"Number of purchases by month (2010-2011 years)\",\n",
    "            loc = \"left\", \n",
    "            fontweight = \"bold\",\n",
    "            fontsize = 16);\n",
    "\n",
    "ax.set_ylabel(\"Total number of items\", labelpad = 20);"
   ]
  },
  {
   "cell_type": "markdown",
   "metadata": {},
   "source": [
    "### Задача 7: подготовка данных\n",
    "\n",
    "Добавьте в исходный датафрейм столбец `TotalCost` с общей суммой покупки (без группировки по пользователям, просто произведение количества единиц товара и его цены). Отберите строки, которые соответствуют покупателям из стран в списке `chosen`.  \n",
    "\n",
    "Сгруппируйте итоговый датафрейм по ID покупателя и сформируйте датафрейм, где по строкам – уникальные ID покупателей, а по столбцам – суммарные траты пользователя и страна, где он проживает. Сохраните результат в переменную `fin`."
   ]
  },
  {
   "cell_type": "code",
   "execution_count": null,
   "metadata": {},
   "outputs": [],
   "source": [
    "chosen = [\"Germany\", \"France\", \"Spain\", \"Italy\"]\n",
    "\n",
    "### YOUR CODE HERE ###"
   ]
  },
  {
   "cell_type": "markdown",
   "metadata": {},
   "source": [
    "### Задача 8: строим гистограммы по группам"
   ]
  },
  {
   "cell_type": "code",
   "execution_count": null,
   "metadata": {},
   "outputs": [],
   "source": [
    "# без особых настроек\n",
    "\n",
    "fin.hist(\"TotalCost\", by = \"Country\", bins = 10);"
   ]
  },
  {
   "cell_type": "code",
   "execution_count": null,
   "metadata": {},
   "outputs": [],
   "source": [
    "# разбираемся с группировкой\n",
    "\n",
    "grouped = fin.groupby(\"Country\")\n",
    "print(grouped.groups.keys())\n",
    "print(grouped.get_group(\"France\").head())"
   ]
  },
  {
   "cell_type": "code",
   "execution_count": null,
   "metadata": {},
   "outputs": [],
   "source": [
    "# используем группировку для отрисовки гистограмм\n",
    "\n",
    "fig, axs = plt.subplots(nrows = 2, ncols = 2, \n",
    "                        figsize = (9, 9), dpi = 300,\n",
    "                        gridspec_kw = dict(hspace = 0.3, \n",
    "                                           wspace = 0.4));\n",
    "\n",
    "targets = zip(grouped.groups.keys(), axs.flatten())\n",
    "\n",
    "for key, ax in targets:\n",
    "    \n",
    "    data = grouped.get_group(key)[\"TotalCost\"]\n",
    "    \n",
    "    ax.hist(data, bins = 5)\n",
    "    ax.set_title('%s' %key)"
   ]
  },
  {
   "cell_type": "code",
   "execution_count": null,
   "metadata": {},
   "outputs": [],
   "source": [
    "# унифицируем шаг гистограммы и оси\n",
    "\n",
    "fig, axs = plt.subplots(nrows = 2, ncols = 2, \n",
    "                        figsize = (9, 9), dpi = 300,\n",
    "                        gridspec_kw = dict(hspace = 0.3, \n",
    "                                           wspace = 0.4));\n",
    "\n",
    "targets = zip(grouped.groups.keys(), axs.flatten())\n",
    "\n",
    "for key, ax in targets:\n",
    "    \n",
    "    data = grouped.get_group(key)[\"TotalCost\"]\n",
    "    \n",
    "    ax.hist(data, bins = range(0, 18000, 2000))\n",
    "    ax.set_title('%s' %key)\n",
    "    ax.set_xlim(-1000, 18000)"
   ]
  },
  {
   "cell_type": "code",
   "execution_count": null,
   "metadata": {},
   "outputs": [],
   "source": [
    "# меняем цвета – расширяем перечень в zip()\n",
    "# для остальных настроек – похожая история\n",
    "\n",
    "# унифицируем шаг гистограммы и оси\n",
    "\n",
    "fig, axs = plt.subplots(nrows = 2, ncols = 2, \n",
    "                        figsize = (9, 9), dpi = 300,\n",
    "                        gridspec_kw = dict(hspace = 0.3, \n",
    "                                           wspace = 0.4));\n",
    "\n",
    "fill = [\"#003049\", \"#D62828\", \"#F77F00\", \"#FCBF49\"]\n",
    "\n",
    "targets = zip(grouped.groups.keys(), axs.flatten(), fill)\n",
    "\n",
    "for key, ax, col in targets:\n",
    "    \n",
    "    data = grouped.get_group(key)[\"TotalCost\"]\n",
    "    \n",
    "    ax.hist(data, bins = range(0, 18000, 2000), \n",
    "            color = col, edgecolor = \"white\")\n",
    "    ax.set_title('%s' %key)\n",
    "    ax.set_xlim(-1000, 18000)"
   ]
  }
 ],
 "metadata": {
  "kernelspec": {
   "display_name": "Python 3",
   "language": "python",
   "name": "python3"
  },
  "language_info": {
   "codemirror_mode": {
    "name": "ipython",
    "version": 3
   },
   "file_extension": ".py",
   "mimetype": "text/x-python",
   "name": "python",
   "nbconvert_exporter": "python",
   "pygments_lexer": "ipython3",
   "version": "3.7.4"
  }
 },
 "nbformat": 4,
 "nbformat_minor": 2
}

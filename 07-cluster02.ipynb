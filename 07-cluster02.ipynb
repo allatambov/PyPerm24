{
 "cells": [
  {
   "cell_type": "markdown",
   "metadata": {},
   "source": [
    "# Анализ данных на Python\n",
    "\n",
    "*Алла Тамбовцева*\n",
    "\n",
    "## Практикум по иерархическому кластерному анализу (качественные данные)"
   ]
  },
  {
   "cell_type": "markdown",
   "metadata": {},
   "source": [
    "### Подготовка к работе\n",
    "\n",
    "В этом практикуме мы рассмотрим пример кластеризации качественных данных на примере результатов опроса программистов, которые сохранены в файле `coffee_and_code.csv`. \n",
    "\n",
    "Переменные в файле:\n",
    "\n",
    "* `CodingHours` : время, которое респондент тратит на написание кода (число часов в день);\n",
    "* `CoffeeCupsPerDay`: количество чашек кофе, которое респондент выпивает в день;\n",
    "* `CoffeeTime`: когда респондент пьет кофе (перед написанием кода, во время написания кода, весь день и прочие варианты);\n",
    "* `CodingWithoutCoffee`: пишет ли респондент код без кофе (да, нет, иногда);\n",
    "* `CoffeeType`: тип или марка кофе, предпочитаемые респондентом;\n",
    "* `CoffeeSolveBugs`: исправляет ли программист баги в коде (да, нет, иногда);\n",
    "* `Gender`: пол респондента;\n",
    "* `Country`: страна респондента;\n",
    "* `AgeRange`: возраст респондента (по категориям).\n",
    "\n",
    "Импортируем необходимые библиотеки и функции:\n",
    "\n",
    "* библиотека `pandas` для работы с таблицами;\n",
    "* функции `linkage`, `dendrogram`, `cut_tree` из набора `hierarchy` модуля `cluster` библиотеки `scipy` для иерархического кластерного анализа."
   ]
  },
  {
   "cell_type": "code",
   "execution_count": 1,
   "metadata": {},
   "outputs": [],
   "source": [
    "import pandas as pd\n",
    "from scipy.cluster.hierarchy import linkage, dendrogram, cut_tree, distance"
   ]
  },
  {
   "cell_type": "markdown",
   "metadata": {},
   "source": [
    "Загрузим данные:"
   ]
  },
  {
   "cell_type": "code",
   "execution_count": 2,
   "metadata": {},
   "outputs": [],
   "source": [
    "coffee = pd.read_csv(\"coffee_and_code.csv\")"
   ]
  },
  {
   "cell_type": "markdown",
   "metadata": {},
   "source": [
    "Посмотрим на первые пять строк:"
   ]
  },
  {
   "cell_type": "code",
   "execution_count": 3,
   "metadata": {},
   "outputs": [
    {
     "data": {
      "text/html": [
       "<div>\n",
       "<style scoped>\n",
       "    .dataframe tbody tr th:only-of-type {\n",
       "        vertical-align: middle;\n",
       "    }\n",
       "\n",
       "    .dataframe tbody tr th {\n",
       "        vertical-align: top;\n",
       "    }\n",
       "\n",
       "    .dataframe thead th {\n",
       "        text-align: right;\n",
       "    }\n",
       "</style>\n",
       "<table border=\"1\" class=\"dataframe\">\n",
       "  <thead>\n",
       "    <tr style=\"text-align: right;\">\n",
       "      <th></th>\n",
       "      <th>CodingHours</th>\n",
       "      <th>CoffeeCupsPerDay</th>\n",
       "      <th>CoffeeTime</th>\n",
       "      <th>CodingWithoutCoffee</th>\n",
       "      <th>CoffeeType</th>\n",
       "      <th>CoffeeSolveBugs</th>\n",
       "      <th>Gender</th>\n",
       "      <th>Country</th>\n",
       "      <th>AgeRange</th>\n",
       "    </tr>\n",
       "  </thead>\n",
       "  <tbody>\n",
       "    <tr>\n",
       "      <th>0</th>\n",
       "      <td>8</td>\n",
       "      <td>2</td>\n",
       "      <td>Before coding</td>\n",
       "      <td>Yes</td>\n",
       "      <td>Caffè latte</td>\n",
       "      <td>Sometimes</td>\n",
       "      <td>Female</td>\n",
       "      <td>Lebanon</td>\n",
       "      <td>18 to 29</td>\n",
       "    </tr>\n",
       "    <tr>\n",
       "      <th>1</th>\n",
       "      <td>3</td>\n",
       "      <td>2</td>\n",
       "      <td>Before coding</td>\n",
       "      <td>Yes</td>\n",
       "      <td>Americano</td>\n",
       "      <td>Yes</td>\n",
       "      <td>Female</td>\n",
       "      <td>Lebanon</td>\n",
       "      <td>30 to 39</td>\n",
       "    </tr>\n",
       "    <tr>\n",
       "      <th>2</th>\n",
       "      <td>5</td>\n",
       "      <td>3</td>\n",
       "      <td>While coding</td>\n",
       "      <td>No</td>\n",
       "      <td>Nescafe</td>\n",
       "      <td>Yes</td>\n",
       "      <td>Female</td>\n",
       "      <td>Lebanon</td>\n",
       "      <td>18 to 29</td>\n",
       "    </tr>\n",
       "    <tr>\n",
       "      <th>3</th>\n",
       "      <td>8</td>\n",
       "      <td>2</td>\n",
       "      <td>Before coding</td>\n",
       "      <td>No</td>\n",
       "      <td>Nescafe</td>\n",
       "      <td>Yes</td>\n",
       "      <td>Male</td>\n",
       "      <td>Lebanon</td>\n",
       "      <td>NaN</td>\n",
       "    </tr>\n",
       "    <tr>\n",
       "      <th>4</th>\n",
       "      <td>10</td>\n",
       "      <td>3</td>\n",
       "      <td>While coding</td>\n",
       "      <td>Sometimes</td>\n",
       "      <td>Turkish</td>\n",
       "      <td>No</td>\n",
       "      <td>Male</td>\n",
       "      <td>Lebanon</td>\n",
       "      <td>18 to 29</td>\n",
       "    </tr>\n",
       "  </tbody>\n",
       "</table>\n",
       "</div>"
      ],
      "text/plain": [
       "   CodingHours  CoffeeCupsPerDay     CoffeeTime CodingWithoutCoffee  \\\n",
       "0            8                 2  Before coding                 Yes   \n",
       "1            3                 2  Before coding                 Yes   \n",
       "2            5                 3   While coding                  No   \n",
       "3            8                 2  Before coding                  No   \n",
       "4           10                 3   While coding           Sometimes   \n",
       "\n",
       "    CoffeeType CoffeeSolveBugs  Gender  Country  AgeRange  \n",
       "0  Caffè latte       Sometimes  Female  Lebanon  18 to 29  \n",
       "1    Americano             Yes  Female  Lebanon  30 to 39  \n",
       "2      Nescafe             Yes  Female  Lebanon  18 to 29  \n",
       "3      Nescafe             Yes    Male  Lebanon       NaN  \n",
       "4      Turkish              No    Male  Lebanon  18 to 29  "
      ]
     },
     "execution_count": 3,
     "metadata": {},
     "output_type": "execute_result"
    }
   ],
   "source": [
    "coffee.head()"
   ]
  },
  {
   "cell_type": "markdown",
   "metadata": {},
   "source": [
    "Несмотря на то, что в данных присутствуют количественные показатели (число времени, уходящее на написание кода и число чашек кофе, выпиваемое за день), остальные показатели представлены в качественной шкале или порядковой шкале с малым числом категорий:\n",
    "\n",
    "* `CoffeeTime`: качественная шкала, сложно упорядочить все ответы;\n",
    "* `CodingWithoutCoffee` и `CoffeeSolveBugs`: формально порядковая шкала (`No` < `Sometimes` < `Yes`), но всего три значения;\n",
    "* `CoffeeType`: тип кофе, точно качественная;\n",
    "* `Gender`: пол, точно качественная;\n",
    "* `AgeRange`: формально порядковая шкала, просто возраст разбит на категории."
   ]
  },
  {
   "cell_type": "markdown",
   "metadata": {},
   "source": [
    "Выберем для примера три показателя, на основе которых мы будет делить программистов на группы:\n",
    "\n",
    "* `CoffeeTime`: когда респондент пьет кофе (перед написанием кода, во время написания кода, весь день и прочие варианты);\n",
    "* `CodingWithoutCoffee`: пишет ли респондент код без кофе (да, нет, иногда);\n",
    "* `Gender`: пол респондента."
   ]
  },
  {
   "cell_type": "code",
   "execution_count": 4,
   "metadata": {},
   "outputs": [],
   "source": [
    "# внешние квадратные скобки – для фильтрации\n",
    "# внутренние – отграничивают список названий\n",
    "\n",
    "three = coffee[[\"CoffeeTime\", \"CodingWithoutCoffee\", \"Gender\"]]"
   ]
  },
  {
   "cell_type": "code",
   "execution_count": 5,
   "metadata": {},
   "outputs": [
    {
     "data": {
      "text/html": [
       "<div>\n",
       "<style scoped>\n",
       "    .dataframe tbody tr th:only-of-type {\n",
       "        vertical-align: middle;\n",
       "    }\n",
       "\n",
       "    .dataframe tbody tr th {\n",
       "        vertical-align: top;\n",
       "    }\n",
       "\n",
       "    .dataframe thead th {\n",
       "        text-align: right;\n",
       "    }\n",
       "</style>\n",
       "<table border=\"1\" class=\"dataframe\">\n",
       "  <thead>\n",
       "    <tr style=\"text-align: right;\">\n",
       "      <th></th>\n",
       "      <th>CoffeeTime</th>\n",
       "      <th>CodingWithoutCoffee</th>\n",
       "      <th>Gender</th>\n",
       "    </tr>\n",
       "  </thead>\n",
       "  <tbody>\n",
       "    <tr>\n",
       "      <th>0</th>\n",
       "      <td>Before coding</td>\n",
       "      <td>Yes</td>\n",
       "      <td>Female</td>\n",
       "    </tr>\n",
       "    <tr>\n",
       "      <th>1</th>\n",
       "      <td>Before coding</td>\n",
       "      <td>Yes</td>\n",
       "      <td>Female</td>\n",
       "    </tr>\n",
       "    <tr>\n",
       "      <th>2</th>\n",
       "      <td>While coding</td>\n",
       "      <td>No</td>\n",
       "      <td>Female</td>\n",
       "    </tr>\n",
       "    <tr>\n",
       "      <th>3</th>\n",
       "      <td>Before coding</td>\n",
       "      <td>No</td>\n",
       "      <td>Male</td>\n",
       "    </tr>\n",
       "    <tr>\n",
       "      <th>4</th>\n",
       "      <td>While coding</td>\n",
       "      <td>Sometimes</td>\n",
       "      <td>Male</td>\n",
       "    </tr>\n",
       "  </tbody>\n",
       "</table>\n",
       "</div>"
      ],
      "text/plain": [
       "      CoffeeTime CodingWithoutCoffee  Gender\n",
       "0  Before coding                 Yes  Female\n",
       "1  Before coding                 Yes  Female\n",
       "2   While coding                  No  Female\n",
       "3  Before coding                  No    Male\n",
       "4   While coding           Sometimes    Male"
      ]
     },
     "execution_count": 5,
     "metadata": {},
     "output_type": "execute_result"
    }
   ],
   "source": [
    "three.head()"
   ]
  },
  {
   "cell_type": "markdown",
   "metadata": {},
   "source": [
    "Самый простой и понятный способ кластеризовать качественные данные – на основе каждого столбца создать набор **фиктивных переменных** или **дамми-переменных**, которые будут принимать значения 0 или 1, а затем, применить к преобразованным данным метод кластеризации, подходящий для бинарных показателей. \n",
    "\n",
    "Получить набор **дамми-переменных** в `pandas` можно с помощью функции `get_dummies()`, ей достаточно подать на вход таблицу со столбцами, которые мы хотим представить в виде набора бинарных переменных:"
   ]
  },
  {
   "cell_type": "code",
   "execution_count": 6,
   "metadata": {},
   "outputs": [],
   "source": [
    "dums = pd.get_dummies(three)"
   ]
  },
  {
   "cell_type": "code",
   "execution_count": 7,
   "metadata": {},
   "outputs": [
    {
     "data": {
      "text/html": [
       "<div>\n",
       "<style scoped>\n",
       "    .dataframe tbody tr th:only-of-type {\n",
       "        vertical-align: middle;\n",
       "    }\n",
       "\n",
       "    .dataframe tbody tr th {\n",
       "        vertical-align: top;\n",
       "    }\n",
       "\n",
       "    .dataframe thead th {\n",
       "        text-align: right;\n",
       "    }\n",
       "</style>\n",
       "<table border=\"1\" class=\"dataframe\">\n",
       "  <thead>\n",
       "    <tr style=\"text-align: right;\">\n",
       "      <th></th>\n",
       "      <th>CoffeeTime_After coding</th>\n",
       "      <th>CoffeeTime_All the time</th>\n",
       "      <th>CoffeeTime_Before and while coding</th>\n",
       "      <th>CoffeeTime_Before coding</th>\n",
       "      <th>CoffeeTime_In the morning</th>\n",
       "      <th>CoffeeTime_No specific time</th>\n",
       "      <th>CoffeeTime_While coding</th>\n",
       "      <th>CodingWithoutCoffee_No</th>\n",
       "      <th>CodingWithoutCoffee_Sometimes</th>\n",
       "      <th>CodingWithoutCoffee_Yes</th>\n",
       "      <th>Gender_Female</th>\n",
       "      <th>Gender_Male</th>\n",
       "    </tr>\n",
       "  </thead>\n",
       "  <tbody>\n",
       "    <tr>\n",
       "      <th>0</th>\n",
       "      <td>0</td>\n",
       "      <td>0</td>\n",
       "      <td>0</td>\n",
       "      <td>1</td>\n",
       "      <td>0</td>\n",
       "      <td>0</td>\n",
       "      <td>0</td>\n",
       "      <td>0</td>\n",
       "      <td>0</td>\n",
       "      <td>1</td>\n",
       "      <td>1</td>\n",
       "      <td>0</td>\n",
       "    </tr>\n",
       "    <tr>\n",
       "      <th>1</th>\n",
       "      <td>0</td>\n",
       "      <td>0</td>\n",
       "      <td>0</td>\n",
       "      <td>1</td>\n",
       "      <td>0</td>\n",
       "      <td>0</td>\n",
       "      <td>0</td>\n",
       "      <td>0</td>\n",
       "      <td>0</td>\n",
       "      <td>1</td>\n",
       "      <td>1</td>\n",
       "      <td>0</td>\n",
       "    </tr>\n",
       "    <tr>\n",
       "      <th>2</th>\n",
       "      <td>0</td>\n",
       "      <td>0</td>\n",
       "      <td>0</td>\n",
       "      <td>0</td>\n",
       "      <td>0</td>\n",
       "      <td>0</td>\n",
       "      <td>1</td>\n",
       "      <td>1</td>\n",
       "      <td>0</td>\n",
       "      <td>0</td>\n",
       "      <td>1</td>\n",
       "      <td>0</td>\n",
       "    </tr>\n",
       "    <tr>\n",
       "      <th>3</th>\n",
       "      <td>0</td>\n",
       "      <td>0</td>\n",
       "      <td>0</td>\n",
       "      <td>1</td>\n",
       "      <td>0</td>\n",
       "      <td>0</td>\n",
       "      <td>0</td>\n",
       "      <td>1</td>\n",
       "      <td>0</td>\n",
       "      <td>0</td>\n",
       "      <td>0</td>\n",
       "      <td>1</td>\n",
       "    </tr>\n",
       "    <tr>\n",
       "      <th>4</th>\n",
       "      <td>0</td>\n",
       "      <td>0</td>\n",
       "      <td>0</td>\n",
       "      <td>0</td>\n",
       "      <td>0</td>\n",
       "      <td>0</td>\n",
       "      <td>1</td>\n",
       "      <td>0</td>\n",
       "      <td>1</td>\n",
       "      <td>0</td>\n",
       "      <td>0</td>\n",
       "      <td>1</td>\n",
       "    </tr>\n",
       "    <tr>\n",
       "      <th>...</th>\n",
       "      <td>...</td>\n",
       "      <td>...</td>\n",
       "      <td>...</td>\n",
       "      <td>...</td>\n",
       "      <td>...</td>\n",
       "      <td>...</td>\n",
       "      <td>...</td>\n",
       "      <td>...</td>\n",
       "      <td>...</td>\n",
       "      <td>...</td>\n",
       "      <td>...</td>\n",
       "      <td>...</td>\n",
       "    </tr>\n",
       "    <tr>\n",
       "      <th>95</th>\n",
       "      <td>0</td>\n",
       "      <td>0</td>\n",
       "      <td>0</td>\n",
       "      <td>1</td>\n",
       "      <td>0</td>\n",
       "      <td>0</td>\n",
       "      <td>0</td>\n",
       "      <td>0</td>\n",
       "      <td>0</td>\n",
       "      <td>1</td>\n",
       "      <td>0</td>\n",
       "      <td>1</td>\n",
       "    </tr>\n",
       "    <tr>\n",
       "      <th>96</th>\n",
       "      <td>0</td>\n",
       "      <td>0</td>\n",
       "      <td>0</td>\n",
       "      <td>1</td>\n",
       "      <td>0</td>\n",
       "      <td>0</td>\n",
       "      <td>0</td>\n",
       "      <td>0</td>\n",
       "      <td>1</td>\n",
       "      <td>0</td>\n",
       "      <td>1</td>\n",
       "      <td>0</td>\n",
       "    </tr>\n",
       "    <tr>\n",
       "      <th>97</th>\n",
       "      <td>0</td>\n",
       "      <td>0</td>\n",
       "      <td>0</td>\n",
       "      <td>1</td>\n",
       "      <td>0</td>\n",
       "      <td>0</td>\n",
       "      <td>0</td>\n",
       "      <td>0</td>\n",
       "      <td>0</td>\n",
       "      <td>1</td>\n",
       "      <td>0</td>\n",
       "      <td>1</td>\n",
       "    </tr>\n",
       "    <tr>\n",
       "      <th>98</th>\n",
       "      <td>0</td>\n",
       "      <td>0</td>\n",
       "      <td>0</td>\n",
       "      <td>0</td>\n",
       "      <td>0</td>\n",
       "      <td>0</td>\n",
       "      <td>1</td>\n",
       "      <td>0</td>\n",
       "      <td>1</td>\n",
       "      <td>0</td>\n",
       "      <td>1</td>\n",
       "      <td>0</td>\n",
       "    </tr>\n",
       "    <tr>\n",
       "      <th>99</th>\n",
       "      <td>0</td>\n",
       "      <td>0</td>\n",
       "      <td>0</td>\n",
       "      <td>1</td>\n",
       "      <td>0</td>\n",
       "      <td>0</td>\n",
       "      <td>0</td>\n",
       "      <td>0</td>\n",
       "      <td>1</td>\n",
       "      <td>0</td>\n",
       "      <td>0</td>\n",
       "      <td>1</td>\n",
       "    </tr>\n",
       "  </tbody>\n",
       "</table>\n",
       "<p>100 rows × 12 columns</p>\n",
       "</div>"
      ],
      "text/plain": [
       "    CoffeeTime_After coding  CoffeeTime_All the time  \\\n",
       "0                         0                        0   \n",
       "1                         0                        0   \n",
       "2                         0                        0   \n",
       "3                         0                        0   \n",
       "4                         0                        0   \n",
       "..                      ...                      ...   \n",
       "95                        0                        0   \n",
       "96                        0                        0   \n",
       "97                        0                        0   \n",
       "98                        0                        0   \n",
       "99                        0                        0   \n",
       "\n",
       "    CoffeeTime_Before and while coding  CoffeeTime_Before coding  \\\n",
       "0                                    0                         1   \n",
       "1                                    0                         1   \n",
       "2                                    0                         0   \n",
       "3                                    0                         1   \n",
       "4                                    0                         0   \n",
       "..                                 ...                       ...   \n",
       "95                                   0                         1   \n",
       "96                                   0                         1   \n",
       "97                                   0                         1   \n",
       "98                                   0                         0   \n",
       "99                                   0                         1   \n",
       "\n",
       "    CoffeeTime_In the morning  CoffeeTime_No specific time  \\\n",
       "0                           0                            0   \n",
       "1                           0                            0   \n",
       "2                           0                            0   \n",
       "3                           0                            0   \n",
       "4                           0                            0   \n",
       "..                        ...                          ...   \n",
       "95                          0                            0   \n",
       "96                          0                            0   \n",
       "97                          0                            0   \n",
       "98                          0                            0   \n",
       "99                          0                            0   \n",
       "\n",
       "    CoffeeTime_While coding  CodingWithoutCoffee_No  \\\n",
       "0                         0                       0   \n",
       "1                         0                       0   \n",
       "2                         1                       1   \n",
       "3                         0                       1   \n",
       "4                         1                       0   \n",
       "..                      ...                     ...   \n",
       "95                        0                       0   \n",
       "96                        0                       0   \n",
       "97                        0                       0   \n",
       "98                        1                       0   \n",
       "99                        0                       0   \n",
       "\n",
       "    CodingWithoutCoffee_Sometimes  CodingWithoutCoffee_Yes  Gender_Female  \\\n",
       "0                               0                        1              1   \n",
       "1                               0                        1              1   \n",
       "2                               0                        0              1   \n",
       "3                               0                        0              0   \n",
       "4                               1                        0              0   \n",
       "..                            ...                      ...            ...   \n",
       "95                              0                        1              0   \n",
       "96                              1                        0              1   \n",
       "97                              0                        1              0   \n",
       "98                              1                        0              1   \n",
       "99                              1                        0              0   \n",
       "\n",
       "    Gender_Male  \n",
       "0             0  \n",
       "1             0  \n",
       "2             0  \n",
       "3             1  \n",
       "4             1  \n",
       "..          ...  \n",
       "95            1  \n",
       "96            0  \n",
       "97            1  \n",
       "98            0  \n",
       "99            1  \n",
       "\n",
       "[100 rows x 12 columns]"
      ]
     },
     "execution_count": 7,
     "metadata": {},
     "output_type": "execute_result"
    }
   ],
   "source": [
    "dums"
   ]
  },
  {
   "cell_type": "markdown",
   "metadata": {},
   "source": [
    "Итак, `pandas` для каждого ответа на каждый вопрос создал набор бинарных столбцов. Для понимания происходящего: первый респондент пьёт кофе перед написанием кода (1 в `CoffeeTime_Before coding`), может писать код без кофе (1 в `CodingWithoutCoffee_Yes`), это женщина (1 в `Gender_Female`). "
   ]
  },
  {
   "cell_type": "markdown",
   "metadata": {},
   "source": [
    "### Реализация кластерного анализа\n",
    "\n",
    "Теперь у нас всё готово к работе. Как мы знаем, для вычисления расстояний на бинарных данных хорошо подходит манхэттенское расстояние (оно же `cityblock`), а оно чаще используется в паре с методом дальнего соседа (метод ближнего соседа имеет явные недостатки, методы с учётом средней связи и центроидов не актуальны, усреднение на бинарных данных – странная затея). Запускаем иерархический анализ с этими параметрами:"
   ]
  },
  {
   "cell_type": "code",
   "execution_count": 9,
   "metadata": {},
   "outputs": [
    {
     "data": {
      "image/png": "[encoded data removed]",
      "text/plain": [
       "<Figure size 432x288 with 1 Axes>"
      ]
     },
     "metadata": {
      "needs_background": "light"
     },
     "output_type": "display_data"
    }
   ],
   "source": [
    "# центировать и нормировать данные не нужно – шкала бинарная, причем у всех показателей\n",
    "\n",
    "hc2 = linkage(dums, method = \"complete\", metric = \"cityblock\")\n",
    "dendrogram(hc2);"
   ]
  },
  {
   "cell_type": "markdown",
   "metadata": {},
   "source": [
    "Полученная дендрограмма ничем не отличается от дендрограмм, которые мы получали на количественных данных. Однако она может немного вводить в заблуждение: кажется, что «листьев» с наблюдениями сильно меньше, чем наблюдений (опрошенных всего 100). Ошибки никакой нет, просто есть респонденты, которые абсолютно одинаково ответили на вопросы (два вопроса + указание пола, вполне реалистично), поэтому точки-листья на дендрограмме совпали.\n",
    "\n",
    "Поделим всех программистов на четыре группы и убедимся, что все на месте:"
   ]
  },
  {
   "cell_type": "code",
   "execution_count": 10,
   "metadata": {},
   "outputs": [],
   "source": [
    "# получаем метки кластеров\n",
    "# и сохраняем их в dums\n",
    "\n",
    "groups = cut_tree(hc2, n_clusters = 4).reshape(-1, )\n",
    "dums[\"groups\"] = groups"
   ]
  },
  {
   "cell_type": "code",
   "execution_count": 11,
   "metadata": {},
   "outputs": [
    {
     "data": {
      "text/plain": [
       "3    39\n",
       "0    30\n",
       "1    16\n",
       "2    15\n",
       "Name: groups, dtype: int64"
      ]
     },
     "execution_count": 11,
     "metadata": {},
     "output_type": "execute_result"
    }
   ],
   "source": [
    "# сколько наблюдений в каждой группе\n",
    "\n",
    "dums[\"groups\"].value_counts()"
   ]
  },
  {
   "cell_type": "markdown",
   "metadata": {},
   "source": [
    "Да, в сумме 100 человек, никто не потерялся. Посмотрим, что это за группы: сгруппируем все строки по `groups` и выведем среднее по каждой группе, ведь среднее по набору из 0 и 1 – это просто доля 1:"
   ]
  },
  {
   "cell_type": "code",
   "execution_count": 12,
   "metadata": {},
   "outputs": [
    {
     "data": {
      "text/html": [
       "<div>\n",
       "<style scoped>\n",
       "    .dataframe tbody tr th:only-of-type {\n",
       "        vertical-align: middle;\n",
       "    }\n",
       "\n",
       "    .dataframe tbody tr th {\n",
       "        vertical-align: top;\n",
       "    }\n",
       "\n",
       "    .dataframe thead th {\n",
       "        text-align: right;\n",
       "    }\n",
       "</style>\n",
       "<table border=\"1\" class=\"dataframe\">\n",
       "  <thead>\n",
       "    <tr style=\"text-align: right;\">\n",
       "      <th></th>\n",
       "      <th>CoffeeTime_After coding</th>\n",
       "      <th>CoffeeTime_All the time</th>\n",
       "      <th>CoffeeTime_Before and while coding</th>\n",
       "      <th>CoffeeTime_Before coding</th>\n",
       "      <th>CoffeeTime_In the morning</th>\n",
       "      <th>CoffeeTime_No specific time</th>\n",
       "      <th>CoffeeTime_While coding</th>\n",
       "      <th>CodingWithoutCoffee_No</th>\n",
       "      <th>CodingWithoutCoffee_Sometimes</th>\n",
       "      <th>CodingWithoutCoffee_Yes</th>\n",
       "      <th>Gender_Female</th>\n",
       "      <th>Gender_Male</th>\n",
       "    </tr>\n",
       "    <tr>\n",
       "      <th>groups</th>\n",
       "      <th></th>\n",
       "      <th></th>\n",
       "      <th></th>\n",
       "      <th></th>\n",
       "      <th></th>\n",
       "      <th></th>\n",
       "      <th></th>\n",
       "      <th></th>\n",
       "      <th></th>\n",
       "      <th></th>\n",
       "      <th></th>\n",
       "      <th></th>\n",
       "    </tr>\n",
       "  </thead>\n",
       "  <tbody>\n",
       "    <tr>\n",
       "      <th>0</th>\n",
       "      <td>0.066667</td>\n",
       "      <td>0.000000</td>\n",
       "      <td>0.000000</td>\n",
       "      <td>0.366667</td>\n",
       "      <td>0.1</td>\n",
       "      <td>0.033333</td>\n",
       "      <td>0.433333</td>\n",
       "      <td>0.00</td>\n",
       "      <td>0.00</td>\n",
       "      <td>1.0</td>\n",
       "      <td>0.300000</td>\n",
       "      <td>0.700000</td>\n",
       "    </tr>\n",
       "    <tr>\n",
       "      <th>1</th>\n",
       "      <td>0.000000</td>\n",
       "      <td>0.000000</td>\n",
       "      <td>0.000000</td>\n",
       "      <td>0.250000</td>\n",
       "      <td>0.0</td>\n",
       "      <td>0.000000</td>\n",
       "      <td>0.750000</td>\n",
       "      <td>0.25</td>\n",
       "      <td>0.75</td>\n",
       "      <td>0.0</td>\n",
       "      <td>1.000000</td>\n",
       "      <td>0.000000</td>\n",
       "    </tr>\n",
       "    <tr>\n",
       "      <th>2</th>\n",
       "      <td>0.000000</td>\n",
       "      <td>0.200000</td>\n",
       "      <td>0.200000</td>\n",
       "      <td>0.200000</td>\n",
       "      <td>0.0</td>\n",
       "      <td>0.000000</td>\n",
       "      <td>0.400000</td>\n",
       "      <td>1.00</td>\n",
       "      <td>0.00</td>\n",
       "      <td>0.0</td>\n",
       "      <td>0.066667</td>\n",
       "      <td>0.933333</td>\n",
       "    </tr>\n",
       "    <tr>\n",
       "      <th>3</th>\n",
       "      <td>0.000000</td>\n",
       "      <td>0.025641</td>\n",
       "      <td>0.025641</td>\n",
       "      <td>0.179487</td>\n",
       "      <td>0.0</td>\n",
       "      <td>0.000000</td>\n",
       "      <td>0.769231</td>\n",
       "      <td>0.00</td>\n",
       "      <td>1.00</td>\n",
       "      <td>0.0</td>\n",
       "      <td>0.000000</td>\n",
       "      <td>1.000000</td>\n",
       "    </tr>\n",
       "  </tbody>\n",
       "</table>\n",
       "</div>"
      ],
      "text/plain": [
       "        CoffeeTime_After coding  CoffeeTime_All the time  \\\n",
       "groups                                                     \n",
       "0                      0.066667                 0.000000   \n",
       "1                      0.000000                 0.000000   \n",
       "2                      0.000000                 0.200000   \n",
       "3                      0.000000                 0.025641   \n",
       "\n",
       "        CoffeeTime_Before and while coding  CoffeeTime_Before coding  \\\n",
       "groups                                                                 \n",
       "0                                 0.000000                  0.366667   \n",
       "1                                 0.000000                  0.250000   \n",
       "2                                 0.200000                  0.200000   \n",
       "3                                 0.025641                  0.179487   \n",
       "\n",
       "        CoffeeTime_In the morning  CoffeeTime_No specific time  \\\n",
       "groups                                                           \n",
       "0                             0.1                     0.033333   \n",
       "1                             0.0                     0.000000   \n",
       "2                             0.0                     0.000000   \n",
       "3                             0.0                     0.000000   \n",
       "\n",
       "        CoffeeTime_While coding  CodingWithoutCoffee_No  \\\n",
       "groups                                                    \n",
       "0                      0.433333                    0.00   \n",
       "1                      0.750000                    0.25   \n",
       "2                      0.400000                    1.00   \n",
       "3                      0.769231                    0.00   \n",
       "\n",
       "        CodingWithoutCoffee_Sometimes  CodingWithoutCoffee_Yes  Gender_Female  \\\n",
       "groups                                                                          \n",
       "0                                0.00                      1.0       0.300000   \n",
       "1                                0.75                      0.0       1.000000   \n",
       "2                                0.00                      0.0       0.066667   \n",
       "3                                1.00                      0.0       0.000000   \n",
       "\n",
       "        Gender_Male  \n",
       "groups               \n",
       "0          0.700000  \n",
       "1          0.000000  \n",
       "2          0.933333  \n",
       "3          1.000000  "
      ]
     },
     "execution_count": 12,
     "metadata": {},
     "output_type": "execute_result"
    }
   ],
   "source": [
    "dums.groupby(\"groups\").agg(\"mean\", numeric_only = True)"
   ]
  },
  {
   "cell_type": "markdown",
   "metadata": {},
   "source": [
    "Проинтерпретируем полученные кластеры:\n",
    "\n",
    "* Кластер 0: программисты, которые 100% могут писать код без кофе (доля ответов в `Yes` в `CodingWithoutCoffee` равна 1), чёткой привязки к полу нет (70% мужчин и 30% женщин).\n",
    "\n",
    "* Кластер 1: программисты-женщины (100% женщин), которые чаще всего пьют кофе во время написания кода (доля ответов `While coding` в `CoffeeTime` равна 0.75).\n",
    "\n",
    "* Кластер 2: преимущественно программисты-мужчины (93% мужчин), которые никогда не пишут код без кофе (доля ответов `No` в `CodingWithoutCoffee` равна 1).\n",
    "\n",
    "* Кластер 3: программисты-мужчины (100% мужчин), которые иногда пишут код без кофе. \n",
    "\n",
    "Полученную информацию можно использовать для дальнейшего анализа (почему люди в первой группе не пьют кофе? пьют чай или у них просто работоспособность и без этого хорошая?) или разработки разных маркетинговых и рекламных стратегий (если хотим разместить рекламу кофе рядом с офисом, на кого она должна быть больше ориентирована?)."
   ]
  },
  {
   "cell_type": "markdown",
   "metadata": {},
   "source": [
    "**Дополнительно.** Иногда кластеризацию можно использовать для сравнения результатов группировки на основе данных и содержательных соображений. В данном случае мы можем поставить такой вопрос: отличается ли поведение программистов-женщин и программистов-мужчин, и если да, насколько это выражается в ответах на вопросы, связанные с написанием кода и потреблением кофе?\n",
    "\n",
    "Как ответить на этот вопрос, используя кластерный анализ? Забрать все ответы на вопросы, исключая пол и другие демографические характеристики, реализовать на них кластерный анализ, поделить респондентов на две группы и проверить, правда ли, что полученные группы состоят из представителей одного пола.\n",
    "\n",
    "Выберем пару столбцов-вопросов о кодинге и кофе:"
   ]
  },
  {
   "cell_type": "code",
   "execution_count": 13,
   "metadata": {},
   "outputs": [],
   "source": [
    "new = coffee[[\"CoffeeTime\", \"CodingWithoutCoffee\"]]\n",
    "dums_new = pd.get_dummies(new)"
   ]
  },
  {
   "cell_type": "code",
   "execution_count": 14,
   "metadata": {},
   "outputs": [
    {
     "data": {
      "image/png": "[encoded data removed]",
      "text/plain": [
       "<Figure size 432x288 with 1 Axes>"
      ]
     },
     "metadata": {
      "needs_background": "light"
     },
     "output_type": "display_data"
    }
   ],
   "source": [
    "hc3 = linkage(dums_new, method = \"complete\", metric = \"cityblock\")\n",
    "dendrogram(hc3);"
   ]
  },
  {
   "cell_type": "markdown",
   "metadata": {},
   "source": [
    "Чисто по дендрограмме сложно выделить две группы (их явно три), но формально такое возможно:"
   ]
  },
  {
   "cell_type": "code",
   "execution_count": 15,
   "metadata": {},
   "outputs": [],
   "source": [
    "groups2 = cut_tree(hc3, n_clusters = 2).reshape(-1, )\n",
    "\n",
    "# добавляем столбец в исходный coffee, \n",
    "# там была информация по полу\n",
    "\n",
    "coffee[\"groups2\"] = groups2"
   ]
  },
  {
   "cell_type": "code",
   "execution_count": 16,
   "metadata": {},
   "outputs": [],
   "source": [
    "# отбираем строки для каждой группы\n",
    "\n",
    "cluster0 = coffee[coffee[\"groups2\"] == 0]\n",
    "cluster1 = coffee[coffee[\"groups2\"] == 1]"
   ]
  },
  {
   "cell_type": "markdown",
   "metadata": {},
   "source": [
    "Смотрим на соотношение по полу в каждой группе:"
   ]
  },
  {
   "cell_type": "code",
   "execution_count": 17,
   "metadata": {},
   "outputs": [
    {
     "data": {
      "text/plain": [
       "Male      35\n",
       "Female    14\n",
       "Name: Gender, dtype: int64"
      ]
     },
     "execution_count": 17,
     "metadata": {},
     "output_type": "execute_result"
    }
   ],
   "source": [
    "cluster0[\"Gender\"].value_counts()"
   ]
  },
  {
   "cell_type": "code",
   "execution_count": 18,
   "metadata": {},
   "outputs": [
    {
     "data": {
      "text/plain": [
       "Male      39\n",
       "Female    12\n",
       "Name: Gender, dtype: int64"
      ]
     },
     "execution_count": 18,
     "metadata": {},
     "output_type": "execute_result"
    }
   ],
   "source": [
    "cluster1[\"Gender\"].value_counts()"
   ]
  },
  {
   "cell_type": "markdown",
   "metadata": {},
   "source": [
    "Нельзя сказать, что один кластер состоит преимущественно из мужчин, а другой – преимущественно из женщин, состав смешанный. Значит, разнообразие ответов на вопросы о времени потребления кофе (`CoffeeTime`) и о том, кодят ли программисты без кофе (`CodingWithoutCoffee`) нельзя связать с полом респондента. \n",
    "\n",
    "P.S. Понятно, что вопрос о независимости/зависимости признаков в качественной шкале спокойно можно решить через использование таблиц сопряжённости и критерий хи-квадрат, но классические таблицы сопряжённости всё же двумерные, а здесь мы можем учесть сколько угодно признаков одновременно."
   ]
  },
  {
   "cell_type": "markdown",
   "metadata": {},
   "source": [
    "### Дополнение: смешанные данные\n",
    "\n",
    "Логичный вопрос: а как быть, если часть данных в количественной шкале, а часть – в качественной? Есть два пути:\n",
    "\n",
    "* использовать метрику и метод агрегирования, которые универсальны; например, можно выбрать столбцы с количественными показателями, выполнить их шкалирование (центрирование и нормирование), добавить к ним набор дамми-переменных, созданный на основе качественных показателей, а затем реализовать кластерный анализ, используя манхэттенское расстояние и метод дальнего соседа (годятся и для бинарных, и для небинарных данных);\n",
    "\n",
    "* использовать специальные меры для смешанных данных, например, [расстояние Гувера](https://pypi.org/project/gower/#:~:text=Gower%20Distance%20is%20a%20distance,Biometrics%2027%20857%E2%80%93874.) (*Gower distance*); на самом деле, логика та же, что и выше, просто используются взвешенные сочетания разных типов расстояний, подходящих для конкретного типа данных."
   ]
  }
 ],
 "metadata": {
  "kernelspec": {
   "display_name": "Python 3",
   "language": "python",
   "name": "python3"
  },
  "language_info": {
   "codemirror_mode": {
    "name": "ipython",
    "version": 3
   },
   "file_extension": ".py",
   "mimetype": "text/x-python",
   "name": "python",
   "nbconvert_exporter": "python",
   "pygments_lexer": "ipython3",
   "version": "3.7.4"
  }
 },
 "nbformat": 4,
 "nbformat_minor": 2
}
